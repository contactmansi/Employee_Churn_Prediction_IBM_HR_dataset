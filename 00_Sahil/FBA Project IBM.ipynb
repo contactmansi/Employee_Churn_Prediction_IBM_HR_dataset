{
 "cells": [
  {
   "cell_type": "code",
   "execution_count": 1,
   "id": "29e320d8",
   "metadata": {},
   "outputs": [],
   "source": [
    "import numpy as np\n",
    "import seaborn as sns\n",
    "import matplotlib.pyplot as plt\n",
    "import pandas as pd\n",
    "import warnings \n",
    "warnings.filterwarnings('ignore')\n",
    "pd.set_option('display.max_rows',None)\n",
    "pd.set_option('display.max_column',None)\n"
   ]
  },
  {
   "cell_type": "code",
   "execution_count": 2,
   "id": "5c207d9c",
   "metadata": {},
   "outputs": [],
   "source": [
    "df=pd.read_csv('/Users/sahilsharma/Downloads/WA_Fn-UseC_-HR-Employee-Attrition.csv',index_col='EmployeeNumber')"
   ]
  },
  {
   "cell_type": "code",
   "execution_count": null,
   "id": "e6a3e466",
   "metadata": {},
   "outputs": [],
   "source": [
    "df1=pd.read_csv('/Users/sahilsharma/Downloads/WA_Fn-UseC_-HR-Employee-Attrition.csv',index_col='EmployeeNumber')\n",
    "df1['EmployementCount'].head(20)"
   ]
  },
  {
   "cell_type": "code",
   "execution_count": 3,
   "id": "43451962",
   "metadata": {},
   "outputs": [],
   "source": [
    "X=df.drop('Attrition',axis=1)\n",
    "y=df['Attrition']"
   ]
  },
  {
   "cell_type": "code",
   "execution_count": 5,
   "id": "b741f578",
   "metadata": {},
   "outputs": [
    {
     "data": {
      "text/html": [
       "<div>\n",
       "<style scoped>\n",
       "    .dataframe tbody tr th:only-of-type {\n",
       "        vertical-align: middle;\n",
       "    }\n",
       "\n",
       "    .dataframe tbody tr th {\n",
       "        vertical-align: top;\n",
       "    }\n",
       "\n",
       "    .dataframe thead th {\n",
       "        text-align: right;\n",
       "    }\n",
       "</style>\n",
       "<table border=\"1\" class=\"dataframe\">\n",
       "  <thead>\n",
       "    <tr style=\"text-align: right;\">\n",
       "      <th></th>\n",
       "      <th>Attrition</th>\n",
       "      <th>BusinessTravel</th>\n",
       "      <th>Department</th>\n",
       "      <th>EducationField</th>\n",
       "      <th>Gender</th>\n",
       "      <th>JobRole</th>\n",
       "      <th>MaritalStatus</th>\n",
       "      <th>Over18</th>\n",
       "      <th>OverTime</th>\n",
       "    </tr>\n",
       "  </thead>\n",
       "  <tbody>\n",
       "    <tr>\n",
       "      <th>count</th>\n",
       "      <td>1470</td>\n",
       "      <td>1470</td>\n",
       "      <td>1470</td>\n",
       "      <td>1470</td>\n",
       "      <td>1470</td>\n",
       "      <td>1470</td>\n",
       "      <td>1470</td>\n",
       "      <td>1470</td>\n",
       "      <td>1470</td>\n",
       "    </tr>\n",
       "    <tr>\n",
       "      <th>unique</th>\n",
       "      <td>2</td>\n",
       "      <td>3</td>\n",
       "      <td>3</td>\n",
       "      <td>6</td>\n",
       "      <td>2</td>\n",
       "      <td>9</td>\n",
       "      <td>3</td>\n",
       "      <td>1</td>\n",
       "      <td>2</td>\n",
       "    </tr>\n",
       "    <tr>\n",
       "      <th>top</th>\n",
       "      <td>No</td>\n",
       "      <td>Travel_Rarely</td>\n",
       "      <td>Research &amp; Development</td>\n",
       "      <td>Life Sciences</td>\n",
       "      <td>Male</td>\n",
       "      <td>Sales Executive</td>\n",
       "      <td>Married</td>\n",
       "      <td>Y</td>\n",
       "      <td>No</td>\n",
       "    </tr>\n",
       "    <tr>\n",
       "      <th>freq</th>\n",
       "      <td>1233</td>\n",
       "      <td>1043</td>\n",
       "      <td>961</td>\n",
       "      <td>606</td>\n",
       "      <td>882</td>\n",
       "      <td>326</td>\n",
       "      <td>673</td>\n",
       "      <td>1470</td>\n",
       "      <td>1054</td>\n",
       "    </tr>\n",
       "  </tbody>\n",
       "</table>\n",
       "</div>"
      ],
      "text/plain": [
       "       Attrition BusinessTravel              Department EducationField Gender  \\\n",
       "count       1470           1470                    1470           1470   1470   \n",
       "unique         2              3                       3              6      2   \n",
       "top           No  Travel_Rarely  Research & Development  Life Sciences   Male   \n",
       "freq        1233           1043                     961            606    882   \n",
       "\n",
       "                JobRole MaritalStatus Over18 OverTime  \n",
       "count              1470          1470   1470     1470  \n",
       "unique                9             3      1        2  \n",
       "top     Sales Executive       Married      Y       No  \n",
       "freq                326           673   1470     1054  "
      ]
     },
     "execution_count": 5,
     "metadata": {},
     "output_type": "execute_result"
    }
   ],
   "source": [
    "df.describe(include='object')"
   ]
  },
  {
   "cell_type": "code",
   "execution_count": 6,
   "id": "5d6dd914",
   "metadata": {
    "scrolled": true
   },
   "outputs": [
    {
     "data": {
      "text/html": [
       "<div>\n",
       "<style scoped>\n",
       "    .dataframe tbody tr th:only-of-type {\n",
       "        vertical-align: middle;\n",
       "    }\n",
       "\n",
       "    .dataframe tbody tr th {\n",
       "        vertical-align: top;\n",
       "    }\n",
       "\n",
       "    .dataframe thead th {\n",
       "        text-align: right;\n",
       "    }\n",
       "</style>\n",
       "<table border=\"1\" class=\"dataframe\">\n",
       "  <thead>\n",
       "    <tr style=\"text-align: right;\">\n",
       "      <th></th>\n",
       "      <th>DailyRate</th>\n",
       "      <th>HourlyRate</th>\n",
       "      <th>MonthlyRate</th>\n",
       "      <th>StandardHours</th>\n",
       "    </tr>\n",
       "  </thead>\n",
       "  <tbody>\n",
       "    <tr>\n",
       "      <th>count</th>\n",
       "      <td>1470.000000</td>\n",
       "      <td>1470.000000</td>\n",
       "      <td>1470.000000</td>\n",
       "      <td>1470.0</td>\n",
       "    </tr>\n",
       "    <tr>\n",
       "      <th>mean</th>\n",
       "      <td>802.485714</td>\n",
       "      <td>65.891156</td>\n",
       "      <td>14313.103401</td>\n",
       "      <td>80.0</td>\n",
       "    </tr>\n",
       "    <tr>\n",
       "      <th>std</th>\n",
       "      <td>403.509100</td>\n",
       "      <td>20.329428</td>\n",
       "      <td>7117.786044</td>\n",
       "      <td>0.0</td>\n",
       "    </tr>\n",
       "    <tr>\n",
       "      <th>min</th>\n",
       "      <td>102.000000</td>\n",
       "      <td>30.000000</td>\n",
       "      <td>2094.000000</td>\n",
       "      <td>80.0</td>\n",
       "    </tr>\n",
       "    <tr>\n",
       "      <th>25%</th>\n",
       "      <td>465.000000</td>\n",
       "      <td>48.000000</td>\n",
       "      <td>8047.000000</td>\n",
       "      <td>80.0</td>\n",
       "    </tr>\n",
       "    <tr>\n",
       "      <th>50%</th>\n",
       "      <td>802.000000</td>\n",
       "      <td>66.000000</td>\n",
       "      <td>14235.500000</td>\n",
       "      <td>80.0</td>\n",
       "    </tr>\n",
       "    <tr>\n",
       "      <th>75%</th>\n",
       "      <td>1157.000000</td>\n",
       "      <td>83.750000</td>\n",
       "      <td>20461.500000</td>\n",
       "      <td>80.0</td>\n",
       "    </tr>\n",
       "    <tr>\n",
       "      <th>max</th>\n",
       "      <td>1499.000000</td>\n",
       "      <td>100.000000</td>\n",
       "      <td>26999.000000</td>\n",
       "      <td>80.0</td>\n",
       "    </tr>\n",
       "  </tbody>\n",
       "</table>\n",
       "</div>"
      ],
      "text/plain": [
       "         DailyRate   HourlyRate   MonthlyRate  StandardHours\n",
       "count  1470.000000  1470.000000   1470.000000         1470.0\n",
       "mean    802.485714    65.891156  14313.103401           80.0\n",
       "std     403.509100    20.329428   7117.786044            0.0\n",
       "min     102.000000    30.000000   2094.000000           80.0\n",
       "25%     465.000000    48.000000   8047.000000           80.0\n",
       "50%     802.000000    66.000000  14235.500000           80.0\n",
       "75%    1157.000000    83.750000  20461.500000           80.0\n",
       "max    1499.000000   100.000000  26999.000000           80.0"
      ]
     },
     "execution_count": 6,
     "metadata": {},
     "output_type": "execute_result"
    }
   ],
   "source": [
    "df[['DailyRate','HourlyRate','MonthlyRate','StandardHours']].describe()"
   ]
  },
  {
   "cell_type": "code",
   "execution_count": 7,
   "id": "97d1096e",
   "metadata": {},
   "outputs": [
    {
     "name": "stdout",
     "output_type": "stream",
     "text": [
      "Checking the skewness for Hourly Rate: -0.03231095290044942\n"
     ]
    },
    {
     "data": {
      "image/png": "[encoded data removed]",
      "text/plain": [
       "<Figure size 432x288 with 1 Axes>"
      ]
     },
     "metadata": {
      "needs_background": "light"
     },
     "output_type": "display_data"
    }
   ],
   "source": [
    "df['HourlyRate'].plot(kind='kde')\n",
    "print('Checking the skewness for Hourly Rate:' ,df['HourlyRate'].skew())\n"
   ]
  },
  {
   "cell_type": "code",
   "execution_count": 8,
   "id": "fc5ded39",
   "metadata": {},
   "outputs": [
    {
     "name": "stdout",
     "output_type": "stream",
     "text": [
      "Checking the skewness for Monthly Rate: 0.018577807891132458\n"
     ]
    },
    {
     "data": {
      "image/png": "[encoded data removed]",
      "text/plain": [
       "<Figure size 432x288 with 1 Axes>"
      ]
     },
     "metadata": {
      "needs_background": "light"
     },
     "output_type": "display_data"
    }
   ],
   "source": [
    "df['MonthlyRate'].plot(kind='kde') \n",
    "print('Checking the skewness for Monthly Rate:' ,df['MonthlyRate'].skew())"
   ]
  },
  {
   "cell_type": "code",
   "execution_count": 9,
   "id": "3bdbfeaf",
   "metadata": {},
   "outputs": [
    {
     "name": "stdout",
     "output_type": "stream",
     "text": [
      "Checking the skewness for Hourly Rate: -0.003518568352325854\n"
     ]
    },
    {
     "data": {
      "image/png": "[encoded data removed]",
      "text/plain": [
       "<Figure size 432x288 with 1 Axes>"
      ]
     },
     "metadata": {
      "needs_background": "light"
     },
     "output_type": "display_data"
    }
   ],
   "source": [
    "df['DailyRate'].plot(kind='kde') \n",
    "print('Checking the skewness for Hourly Rate:' ,df['DailyRate'].skew())"
   ]
  },
  {
   "cell_type": "code",
   "execution_count": 10,
   "id": "dd229fe9",
   "metadata": {},
   "outputs": [
    {
     "data": {
      "text/html": [
       "<div>\n",
       "<style scoped>\n",
       "    .dataframe tbody tr th:only-of-type {\n",
       "        vertical-align: middle;\n",
       "    }\n",
       "\n",
       "    .dataframe tbody tr th {\n",
       "        vertical-align: top;\n",
       "    }\n",
       "\n",
       "    .dataframe thead th {\n",
       "        text-align: right;\n",
       "    }\n",
       "</style>\n",
       "<table border=\"1\" class=\"dataframe\">\n",
       "  <thead>\n",
       "    <tr style=\"text-align: right;\">\n",
       "      <th></th>\n",
       "      <th>Age</th>\n",
       "      <th>Attrition</th>\n",
       "      <th>BusinessTravel</th>\n",
       "      <th>DailyRate</th>\n",
       "      <th>Department</th>\n",
       "      <th>DistanceFromHome</th>\n",
       "      <th>Education</th>\n",
       "      <th>EducationField</th>\n",
       "      <th>EmployeeCount</th>\n",
       "      <th>EnvironmentSatisfaction</th>\n",
       "      <th>Gender</th>\n",
       "      <th>HourlyRate</th>\n",
       "      <th>JobInvolvement</th>\n",
       "      <th>JobLevel</th>\n",
       "      <th>JobRole</th>\n",
       "      <th>JobSatisfaction</th>\n",
       "      <th>MaritalStatus</th>\n",
       "      <th>MonthlyIncome</th>\n",
       "      <th>MonthlyRate</th>\n",
       "      <th>NumCompaniesWorked</th>\n",
       "      <th>Over18</th>\n",
       "      <th>OverTime</th>\n",
       "      <th>PercentSalaryHike</th>\n",
       "      <th>PerformanceRating</th>\n",
       "      <th>RelationshipSatisfaction</th>\n",
       "      <th>StandardHours</th>\n",
       "      <th>StockOptionLevel</th>\n",
       "      <th>TotalWorkingYears</th>\n",
       "      <th>TrainingTimesLastYear</th>\n",
       "      <th>WorkLifeBalance</th>\n",
       "      <th>YearsAtCompany</th>\n",
       "      <th>YearsInCurrentRole</th>\n",
       "      <th>YearsSinceLastPromotion</th>\n",
       "      <th>YearsWithCurrManager</th>\n",
       "    </tr>\n",
       "  </thead>\n",
       "  <tbody>\n",
       "    <tr>\n",
       "      <th>Count</th>\n",
       "      <td>0.0</td>\n",
       "      <td>0.0</td>\n",
       "      <td>0.0</td>\n",
       "      <td>0.0</td>\n",
       "      <td>0.0</td>\n",
       "      <td>0.0</td>\n",
       "      <td>0.0</td>\n",
       "      <td>0.0</td>\n",
       "      <td>0.0</td>\n",
       "      <td>0.0</td>\n",
       "      <td>0.0</td>\n",
       "      <td>0.0</td>\n",
       "      <td>0.0</td>\n",
       "      <td>0.0</td>\n",
       "      <td>0.0</td>\n",
       "      <td>0.0</td>\n",
       "      <td>0.0</td>\n",
       "      <td>0.0</td>\n",
       "      <td>0.0</td>\n",
       "      <td>0.0</td>\n",
       "      <td>0.0</td>\n",
       "      <td>0.0</td>\n",
       "      <td>0.0</td>\n",
       "      <td>0.0</td>\n",
       "      <td>0.0</td>\n",
       "      <td>0.0</td>\n",
       "      <td>0.0</td>\n",
       "      <td>0.0</td>\n",
       "      <td>0.0</td>\n",
       "      <td>0.0</td>\n",
       "      <td>0.0</td>\n",
       "      <td>0.0</td>\n",
       "      <td>0.0</td>\n",
       "      <td>0.0</td>\n",
       "    </tr>\n",
       "    <tr>\n",
       "      <th>Missing%</th>\n",
       "      <td>0.0</td>\n",
       "      <td>0.0</td>\n",
       "      <td>0.0</td>\n",
       "      <td>0.0</td>\n",
       "      <td>0.0</td>\n",
       "      <td>0.0</td>\n",
       "      <td>0.0</td>\n",
       "      <td>0.0</td>\n",
       "      <td>0.0</td>\n",
       "      <td>0.0</td>\n",
       "      <td>0.0</td>\n",
       "      <td>0.0</td>\n",
       "      <td>0.0</td>\n",
       "      <td>0.0</td>\n",
       "      <td>0.0</td>\n",
       "      <td>0.0</td>\n",
       "      <td>0.0</td>\n",
       "      <td>0.0</td>\n",
       "      <td>0.0</td>\n",
       "      <td>0.0</td>\n",
       "      <td>0.0</td>\n",
       "      <td>0.0</td>\n",
       "      <td>0.0</td>\n",
       "      <td>0.0</td>\n",
       "      <td>0.0</td>\n",
       "      <td>0.0</td>\n",
       "      <td>0.0</td>\n",
       "      <td>0.0</td>\n",
       "      <td>0.0</td>\n",
       "      <td>0.0</td>\n",
       "      <td>0.0</td>\n",
       "      <td>0.0</td>\n",
       "      <td>0.0</td>\n",
       "      <td>0.0</td>\n",
       "    </tr>\n",
       "  </tbody>\n",
       "</table>\n",
       "</div>"
      ],
      "text/plain": [
       "          Age  Attrition  BusinessTravel  DailyRate  Department  \\\n",
       "Count     0.0        0.0             0.0        0.0         0.0   \n",
       "Missing%  0.0        0.0             0.0        0.0         0.0   \n",
       "\n",
       "          DistanceFromHome  Education  EducationField  EmployeeCount  \\\n",
       "Count                  0.0        0.0             0.0            0.0   \n",
       "Missing%               0.0        0.0             0.0            0.0   \n",
       "\n",
       "          EnvironmentSatisfaction  Gender  HourlyRate  JobInvolvement  \\\n",
       "Count                         0.0     0.0         0.0             0.0   \n",
       "Missing%                      0.0     0.0         0.0             0.0   \n",
       "\n",
       "          JobLevel  JobRole  JobSatisfaction  MaritalStatus  MonthlyIncome  \\\n",
       "Count          0.0      0.0              0.0            0.0            0.0   \n",
       "Missing%       0.0      0.0              0.0            0.0            0.0   \n",
       "\n",
       "          MonthlyRate  NumCompaniesWorked  Over18  OverTime  \\\n",
       "Count             0.0                 0.0     0.0       0.0   \n",
       "Missing%          0.0                 0.0     0.0       0.0   \n",
       "\n",
       "          PercentSalaryHike  PerformanceRating  RelationshipSatisfaction  \\\n",
       "Count                   0.0                0.0                       0.0   \n",
       "Missing%                0.0                0.0                       0.0   \n",
       "\n",
       "          StandardHours  StockOptionLevel  TotalWorkingYears  \\\n",
       "Count               0.0               0.0                0.0   \n",
       "Missing%            0.0               0.0                0.0   \n",
       "\n",
       "          TrainingTimesLastYear  WorkLifeBalance  YearsAtCompany  \\\n",
       "Count                       0.0              0.0             0.0   \n",
       "Missing%                    0.0              0.0             0.0   \n",
       "\n",
       "          YearsInCurrentRole  YearsSinceLastPromotion  YearsWithCurrManager  \n",
       "Count                    0.0                      0.0                   0.0  \n",
       "Missing%                 0.0                      0.0                   0.0  "
      ]
     },
     "execution_count": 10,
     "metadata": {},
     "output_type": "execute_result"
    }
   ],
   "source": [
    "#The data doesn't have missing features\n",
    "pd.DataFrame({'Count':df.isnull().sum(),'Missing%':df.isnull().mean()*100}).T "
   ]
  },
  {
   "cell_type": "code",
   "execution_count": 11,
   "id": "90e95fc8",
   "metadata": {},
   "outputs": [],
   "source": [
    "#dropping insignificant features\n",
    "df.drop(['EmployeeCount','Over18','StandardHours'],axis=1,inplace=True)"
   ]
  },
  {
   "cell_type": "code",
   "execution_count": 12,
   "id": "b86a5a40",
   "metadata": {},
   "outputs": [
    {
     "name": "stdout",
     "output_type": "stream",
     "text": [
      "DistanceFromHome : 0.9581179956568269\n",
      "JobLevel : 1.0254012829518246\n",
      "MonthlyIncome : 1.3698166808390662\n",
      "NumCompaniesWorked : 1.026471111968205\n",
      "PerformanceRating : 1.921882702142603\n",
      "StockOptionLevel : 0.9689803167738937\n",
      "TotalWorkingYears : 1.1171718528128527\n",
      "YearsAtCompany : 1.7645294543422085\n",
      "YearsInCurrentRole : 0.9173631562908262\n",
      "YearsSinceLastPromotion : 1.9842899833524859\n"
     ]
    }
   ],
   "source": [
    "#check for skewness in the data\n",
    "\n",
    "for i in df.select_dtypes(exclude='O'):\n",
    "    if df[i].skew() > 0.9:\n",
    "        print(i,':',df[i].skew())"
   ]
  },
  {
   "cell_type": "code",
   "execution_count": 13,
   "id": "06b75db2",
   "metadata": {},
   "outputs": [],
   "source": [
    "#skewness treatment\n",
    "\n",
    "for i in df.select_dtypes(exclude='O'):\n",
    "    if df[i].skew()>0.9:\n",
    "        df[i]=df[i].transform(lambda a: np.log1p(a))"
   ]
  },
  {
   "cell_type": "code",
   "execution_count": 14,
   "id": "a35a0f38",
   "metadata": {},
   "outputs": [
    {
     "name": "stdout",
     "output_type": "stream",
     "text": [
      "Age : 0.4132863018563338\n",
      "JobLevel : 0.4481334349835919\n",
      "MonthlyIncome : 0.2864483763069351\n",
      "MonthlyRate : 0.018577807891132458\n",
      "NumCompaniesWorked : 0.09289622460196824\n",
      "PercentSalaryHike : 0.8211279755780908\n",
      "PerformanceRating : 1.9218827021425997\n",
      "StockOptionLevel : 0.27196254237149353\n",
      "TrainingTimesLastYear : 0.5531241710537028\n",
      "YearsSinceLastPromotion : 0.7188045525459852\n",
      "YearsWithCurrManager : 0.8334509919918475\n"
     ]
    }
   ],
   "source": [
    "for i in df.select_dtypes(exclude='O'):\n",
    "    if df[i].skew() > 0:\n",
    "        print(i,':',df[i].skew())"
   ]
  },
  {
   "cell_type": "code",
   "execution_count": 15,
   "id": "3b2a2cd7",
   "metadata": {},
   "outputs": [
    {
     "data": {
      "text/plain": [
       "<AxesSubplot:title={'center':'Age Wise Binning wrt Attrition'}, xlabel='Age', ylabel='count'>"
      ]
     },
     "execution_count": 15,
     "metadata": {},
     "output_type": "execute_result"
    },
    {
     "data": {
      "image/png": "[encoded data removed]",
      "text/plain": [
       "<Figure size 1080x360 with 1 Axes>"
      ]
     },
     "metadata": {
      "needs_background": "light"
     },
     "output_type": "display_data"
    },
    {
     "data": {
      "image/png": "[encoded data removed]",
      "text/plain": [
       "<Figure size 1080x360 with 1 Axes>"
      ]
     },
     "metadata": {
      "needs_background": "light"
     },
     "output_type": "display_data"
    }
   ],
   "source": [
    "agebins=pd.cut(df['Age'],bins=[15,20,25,30,35,40,45,50,55,60]) \n",
    "#Discretisation to understand what age categories to Target\n",
    "\n",
    "plt.figure(figsize=(15,5))\n",
    "plt.title('Distribution of Age',size=15)\n",
    "sns.distplot(df['Age'],bins=[15,20,25,30,35,40,45,50,55,60],color='c')\n",
    "\n",
    "plt.figure(figsize=(15,5))\n",
    "plt.title('Age Wise Binning wrt Attrition',size=15)\n",
    "sns.countplot(agebins,hue='Attrition',data=df,palette='CMRmap_r')"
   ]
  },
  {
   "cell_type": "code",
   "execution_count": 16,
   "id": "5cc490dd",
   "metadata": {},
   "outputs": [],
   "source": [
    "# Statistical Analysis¶\n",
    "# Questions\n",
    "# Is gender influencing attrition?\n",
    "# Which job role has a higher signifance in predecting attrition?\n",
    "# Is Distance from home an important attribute?\n",
    "\n",
    "from scipy.stats import chi2_contingency,chisquare,f_oneway\n",
    "\n",
    "cat_cols =df.describe(include = \"O\").columns    # Statistical analysis for categorical data types, Chisquare is performed "
   ]
  },
  {
   "cell_type": "code",
   "execution_count": 17,
   "id": "6b0c0601",
   "metadata": {},
   "outputs": [],
   "source": [
    "chi_stat=[]\n",
    "p_value=[]\n",
    "for i in cat_cols:\n",
    "    chi_res=chi2_contingency(np.array(pd.crosstab(df[i],df['Attrition'])))\n",
    "    chi_stat.append(chi_res[0])\n",
    "    p_value.append(chi_res[1])\n",
    "chi_square=pd.DataFrame([chi_stat,p_value])\n",
    "chi_square=chi_square.T\n",
    "col=['Chi Square Value','P-Value']\n",
    "chi_square.columns=col\n",
    "chi_square.index=cat_cols"
   ]
  },
  {
   "cell_type": "code",
   "execution_count": 18,
   "id": "aeeb299b",
   "metadata": {},
   "outputs": [
    {
     "data": {
      "text/html": [
       "<div>\n",
       "<style scoped>\n",
       "    .dataframe tbody tr th:only-of-type {\n",
       "        vertical-align: middle;\n",
       "    }\n",
       "\n",
       "    .dataframe tbody tr th {\n",
       "        vertical-align: top;\n",
       "    }\n",
       "\n",
       "    .dataframe thead th {\n",
       "        text-align: right;\n",
       "    }\n",
       "</style>\n",
       "<table border=\"1\" class=\"dataframe\">\n",
       "  <thead>\n",
       "    <tr style=\"text-align: right;\">\n",
       "      <th></th>\n",
       "      <th>Chi Square Value</th>\n",
       "      <th>P-Value</th>\n",
       "    </tr>\n",
       "  </thead>\n",
       "  <tbody>\n",
       "    <tr>\n",
       "      <th>Attrition</th>\n",
       "      <td>1462.614554</td>\n",
       "      <td>0.000000e+00</td>\n",
       "    </tr>\n",
       "    <tr>\n",
       "      <th>BusinessTravel</th>\n",
       "      <td>24.182414</td>\n",
       "      <td>5.608614e-06</td>\n",
       "    </tr>\n",
       "    <tr>\n",
       "      <th>Department</th>\n",
       "      <td>10.796007</td>\n",
       "      <td>4.525607e-03</td>\n",
       "    </tr>\n",
       "    <tr>\n",
       "      <th>EducationField</th>\n",
       "      <td>16.024674</td>\n",
       "      <td>6.773980e-03</td>\n",
       "    </tr>\n",
       "    <tr>\n",
       "      <th>Gender</th>\n",
       "      <td>1.116967</td>\n",
       "      <td>2.905724e-01</td>\n",
       "    </tr>\n",
       "    <tr>\n",
       "      <th>JobRole</th>\n",
       "      <td>86.190254</td>\n",
       "      <td>2.752482e-15</td>\n",
       "    </tr>\n",
       "    <tr>\n",
       "      <th>MaritalStatus</th>\n",
       "      <td>46.163677</td>\n",
       "      <td>9.455511e-11</td>\n",
       "    </tr>\n",
       "    <tr>\n",
       "      <th>OverTime</th>\n",
       "      <td>87.564294</td>\n",
       "      <td>8.158424e-21</td>\n",
       "    </tr>\n",
       "  </tbody>\n",
       "</table>\n",
       "</div>"
      ],
      "text/plain": [
       "                Chi Square Value       P-Value\n",
       "Attrition            1462.614554  0.000000e+00\n",
       "BusinessTravel         24.182414  5.608614e-06\n",
       "Department             10.796007  4.525607e-03\n",
       "EducationField         16.024674  6.773980e-03\n",
       "Gender                  1.116967  2.905724e-01\n",
       "JobRole                86.190254  2.752482e-15\n",
       "MaritalStatus          46.163677  9.455511e-11\n",
       "OverTime               87.564294  8.158424e-21"
      ]
     },
     "execution_count": 18,
     "metadata": {},
     "output_type": "execute_result"
    }
   ],
   "source": [
    "chi_square"
   ]
  },
  {
   "cell_type": "code",
   "execution_count": 19,
   "id": "8eda1fd6",
   "metadata": {},
   "outputs": [
    {
     "data": {
      "text/html": [
       "<div>\n",
       "<style scoped>\n",
       "    .dataframe tbody tr th:only-of-type {\n",
       "        vertical-align: middle;\n",
       "    }\n",
       "\n",
       "    .dataframe tbody tr th {\n",
       "        vertical-align: top;\n",
       "    }\n",
       "\n",
       "    .dataframe thead th {\n",
       "        text-align: right;\n",
       "    }\n",
       "</style>\n",
       "<table border=\"1\" class=\"dataframe\">\n",
       "  <thead>\n",
       "    <tr style=\"text-align: right;\">\n",
       "      <th></th>\n",
       "      <th>Chi Square Value</th>\n",
       "      <th>P-Value</th>\n",
       "    </tr>\n",
       "  </thead>\n",
       "  <tbody>\n",
       "    <tr>\n",
       "      <th>Attrition</th>\n",
       "      <td>1462.614554</td>\n",
       "      <td>0.000000e+00</td>\n",
       "    </tr>\n",
       "    <tr>\n",
       "      <th>BusinessTravel</th>\n",
       "      <td>24.182414</td>\n",
       "      <td>5.608614e-06</td>\n",
       "    </tr>\n",
       "    <tr>\n",
       "      <th>Department</th>\n",
       "      <td>10.796007</td>\n",
       "      <td>4.525607e-03</td>\n",
       "    </tr>\n",
       "    <tr>\n",
       "      <th>EducationField</th>\n",
       "      <td>16.024674</td>\n",
       "      <td>6.773980e-03</td>\n",
       "    </tr>\n",
       "    <tr>\n",
       "      <th>JobRole</th>\n",
       "      <td>86.190254</td>\n",
       "      <td>2.752482e-15</td>\n",
       "    </tr>\n",
       "    <tr>\n",
       "      <th>MaritalStatus</th>\n",
       "      <td>46.163677</td>\n",
       "      <td>9.455511e-11</td>\n",
       "    </tr>\n",
       "    <tr>\n",
       "      <th>OverTime</th>\n",
       "      <td>87.564294</td>\n",
       "      <td>8.158424e-21</td>\n",
       "    </tr>\n",
       "  </tbody>\n",
       "</table>\n",
       "</div>"
      ],
      "text/plain": [
       "                Chi Square Value       P-Value\n",
       "Attrition            1462.614554  0.000000e+00\n",
       "BusinessTravel         24.182414  5.608614e-06\n",
       "Department             10.796007  4.525607e-03\n",
       "EducationField         16.024674  6.773980e-03\n",
       "JobRole                86.190254  2.752482e-15\n",
       "MaritalStatus          46.163677  9.455511e-11\n",
       "OverTime               87.564294  8.158424e-21"
      ]
     },
     "execution_count": 19,
     "metadata": {},
     "output_type": "execute_result"
    }
   ],
   "source": [
    "chi_square[chi_square[\"P-Value\"]<0.05]"
   ]
  },
  {
   "cell_type": "code",
   "execution_count": 20,
   "id": "4466109e",
   "metadata": {},
   "outputs": [
    {
     "name": "stdout",
     "output_type": "stream",
     "text": [
      "Significant categorical Features:\n",
      "\n",
      " ['Attrition', 'BusinessTravel', 'Department', 'EducationField', 'JobRole', 'MaritalStatus', 'OverTime']\n"
     ]
    }
   ],
   "source": [
    "features_p = list(chi_square[chi_square[\"P-Value\"]<0.05].index)\n",
    "print(\"Significant categorical Features:\\n\\n\",features_p)"
   ]
  },
  {
   "cell_type": "code",
   "execution_count": 21,
   "id": "54cd5927",
   "metadata": {},
   "outputs": [],
   "source": [
    "num_cols = df.describe().columns   # statistical analysis for numerical data dtypes , Therefore performing ANOVA Test"
   ]
  },
  {
   "cell_type": "code",
   "execution_count": 22,
   "id": "61e384bc",
   "metadata": {},
   "outputs": [
    {
     "data": {
      "text/html": [
       "<div>\n",
       "<style scoped>\n",
       "    .dataframe tbody tr th:only-of-type {\n",
       "        vertical-align: middle;\n",
       "    }\n",
       "\n",
       "    .dataframe tbody tr th {\n",
       "        vertical-align: top;\n",
       "    }\n",
       "\n",
       "    .dataframe thead th {\n",
       "        text-align: right;\n",
       "    }\n",
       "</style>\n",
       "<table border=\"1\" class=\"dataframe\">\n",
       "  <thead>\n",
       "    <tr style=\"text-align: right;\">\n",
       "      <th></th>\n",
       "      <th>F-STAT</th>\n",
       "      <th>P-VALUE</th>\n",
       "    </tr>\n",
       "  </thead>\n",
       "  <tbody>\n",
       "    <tr>\n",
       "      <th>Age</th>\n",
       "      <td>38.175887</td>\n",
       "      <td>8.356308e-10</td>\n",
       "    </tr>\n",
       "    <tr>\n",
       "      <th>DailyRate</th>\n",
       "      <td>4.726640</td>\n",
       "      <td>2.985816e-02</td>\n",
       "    </tr>\n",
       "    <tr>\n",
       "      <th>DistanceFromHome</th>\n",
       "      <td>9.002821</td>\n",
       "      <td>2.741074e-03</td>\n",
       "    </tr>\n",
       "    <tr>\n",
       "      <th>Education</th>\n",
       "      <td>1.446308</td>\n",
       "      <td>2.293152e-01</td>\n",
       "    </tr>\n",
       "    <tr>\n",
       "      <th>EnvironmentSatisfaction</th>\n",
       "      <td>15.855209</td>\n",
       "      <td>7.172339e-05</td>\n",
       "    </tr>\n",
       "    <tr>\n",
       "      <th>HourlyRate</th>\n",
       "      <td>0.068796</td>\n",
       "      <td>7.931348e-01</td>\n",
       "    </tr>\n",
       "    <tr>\n",
       "      <th>JobInvolvement</th>\n",
       "      <td>25.241985</td>\n",
       "      <td>5.677065e-07</td>\n",
       "    </tr>\n",
       "    <tr>\n",
       "      <th>JobLevel</th>\n",
       "      <td>52.672236</td>\n",
       "      <td>6.362613e-13</td>\n",
       "    </tr>\n",
       "    <tr>\n",
       "      <th>JobSatisfaction</th>\n",
       "      <td>15.890004</td>\n",
       "      <td>7.043067e-05</td>\n",
       "    </tr>\n",
       "    <tr>\n",
       "      <th>MonthlyIncome</th>\n",
       "      <td>60.026574</td>\n",
       "      <td>1.734956e-14</td>\n",
       "    </tr>\n",
       "    <tr>\n",
       "      <th>MonthlyRate</th>\n",
       "      <td>0.337916</td>\n",
       "      <td>5.611236e-01</td>\n",
       "    </tr>\n",
       "    <tr>\n",
       "      <th>NumCompaniesWorked</th>\n",
       "      <td>2.105419</td>\n",
       "      <td>1.469917e-01</td>\n",
       "    </tr>\n",
       "    <tr>\n",
       "      <th>PercentSalaryHike</th>\n",
       "      <td>0.266728</td>\n",
       "      <td>6.056128e-01</td>\n",
       "    </tr>\n",
       "    <tr>\n",
       "      <th>PerformanceRating</th>\n",
       "      <td>0.012250</td>\n",
       "      <td>9.118840e-01</td>\n",
       "    </tr>\n",
       "    <tr>\n",
       "      <th>RelationshipSatisfaction</th>\n",
       "      <td>3.095576</td>\n",
       "      <td>7.871363e-02</td>\n",
       "    </tr>\n",
       "    <tr>\n",
       "      <th>StockOptionLevel</th>\n",
       "      <td>41.747317</td>\n",
       "      <td>1.409298e-10</td>\n",
       "    </tr>\n",
       "    <tr>\n",
       "      <th>TotalWorkingYears</th>\n",
       "      <td>82.667235</td>\n",
       "      <td>3.063822e-19</td>\n",
       "    </tr>\n",
       "    <tr>\n",
       "      <th>TrainingTimesLastYear</th>\n",
       "      <td>5.211646</td>\n",
       "      <td>2.257850e-02</td>\n",
       "    </tr>\n",
       "    <tr>\n",
       "      <th>WorkLifeBalance</th>\n",
       "      <td>6.026116</td>\n",
       "      <td>1.421105e-02</td>\n",
       "    </tr>\n",
       "    <tr>\n",
       "      <th>YearsAtCompany</th>\n",
       "      <td>60.194152</td>\n",
       "      <td>1.598704e-14</td>\n",
       "    </tr>\n",
       "    <tr>\n",
       "      <th>YearsInCurrentRole</th>\n",
       "      <td>53.559413</td>\n",
       "      <td>4.114711e-13</td>\n",
       "    </tr>\n",
       "    <tr>\n",
       "      <th>YearsSinceLastPromotion</th>\n",
       "      <td>3.457619</td>\n",
       "      <td>6.316086e-02</td>\n",
       "    </tr>\n",
       "    <tr>\n",
       "      <th>YearsWithCurrManager</th>\n",
       "      <td>36.712311</td>\n",
       "      <td>1.736987e-09</td>\n",
       "    </tr>\n",
       "  </tbody>\n",
       "</table>\n",
       "</div>"
      ],
      "text/plain": [
       "                             F-STAT       P-VALUE\n",
       "Age                       38.175887  8.356308e-10\n",
       "DailyRate                  4.726640  2.985816e-02\n",
       "DistanceFromHome           9.002821  2.741074e-03\n",
       "Education                  1.446308  2.293152e-01\n",
       "EnvironmentSatisfaction   15.855209  7.172339e-05\n",
       "HourlyRate                 0.068796  7.931348e-01\n",
       "JobInvolvement            25.241985  5.677065e-07\n",
       "JobLevel                  52.672236  6.362613e-13\n",
       "JobSatisfaction           15.890004  7.043067e-05\n",
       "MonthlyIncome             60.026574  1.734956e-14\n",
       "MonthlyRate                0.337916  5.611236e-01\n",
       "NumCompaniesWorked         2.105419  1.469917e-01\n",
       "PercentSalaryHike          0.266728  6.056128e-01\n",
       "PerformanceRating          0.012250  9.118840e-01\n",
       "RelationshipSatisfaction   3.095576  7.871363e-02\n",
       "StockOptionLevel          41.747317  1.409298e-10\n",
       "TotalWorkingYears         82.667235  3.063822e-19\n",
       "TrainingTimesLastYear      5.211646  2.257850e-02\n",
       "WorkLifeBalance            6.026116  1.421105e-02\n",
       "YearsAtCompany            60.194152  1.598704e-14\n",
       "YearsInCurrentRole        53.559413  4.114711e-13\n",
       "YearsSinceLastPromotion    3.457619  6.316086e-02\n",
       "YearsWithCurrManager      36.712311  1.736987e-09"
      ]
     },
     "execution_count": 22,
     "metadata": {},
     "output_type": "execute_result"
    }
   ],
   "source": [
    "f_stat=[]\n",
    "p_val=[]\n",
    "for i in num_cols:\n",
    "    atr_0=df[df['Attrition']==\"No\"][i]\n",
    "    atr_1=df[df['Attrition']==\"Yes\"][i]\n",
    "    a=f_oneway(atr_0,atr_1)\n",
    "    f_stat.append(a[0])\n",
    "    p_val.append(a[1])\n",
    "anova=pd.DataFrame([f_stat,p_val])\n",
    "anova=anova.T\n",
    "cols=['F-STAT','P-VALUE']\n",
    "anova.columns=cols\n",
    "anova.index=num_cols\n",
    "\n",
    "anova"
   ]
  },
  {
   "cell_type": "code",
   "execution_count": 23,
   "id": "aa9aa493",
   "metadata": {},
   "outputs": [],
   "source": [
    "df['Attrition']=df['Attrition'].replace({'Yes':1,'No':0})\n",
    "df['OverTime']=df['OverTime'].replace({'Yes':1,'No':0})# Repalacing as 0 and 1 for model understanding \n"
   ]
  },
  {
   "cell_type": "code",
   "execution_count": 24,
   "id": "124f7bc7",
   "metadata": {},
   "outputs": [
    {
     "data": {
      "text/plain": [
       "Index(['BusinessTravel', 'Department', 'EducationField', 'Gender', 'JobRole',\n",
       "       'MaritalStatus'],\n",
       "      dtype='object')"
      ]
     },
     "execution_count": 24,
     "metadata": {},
     "output_type": "execute_result"
    }
   ],
   "source": [
    "cat_cols=df.select_dtypes('object').columns\n",
    "cat_cols"
   ]
  },
  {
   "cell_type": "code",
   "execution_count": 25,
   "id": "db5f54fc",
   "metadata": {},
   "outputs": [
    {
     "name": "stdout",
     "output_type": "stream",
     "text": [
      "BusinessTravel\n",
      "Department\n",
      "EducationField\n",
      "Gender\n",
      "JobRole\n",
      "MaritalStatus\n"
     ]
    }
   ],
   "source": [
    "for col in cat_cols:\n",
    "    freqs = df[col].value_counts()\n",
    "    k = freqs.index[freqs>20][:-1]                 # does the work of One Hot Encoding\n",
    "    for cat in k:\n",
    "        name = col+'_'+cat\n",
    "        df[name] = (df[col] == cat).astype(int)\n",
    "    del df[col]\n",
    "    print(col)"
   ]
  },
  {
   "cell_type": "code",
   "execution_count": 26,
   "id": "197456fe",
   "metadata": {},
   "outputs": [
    {
     "data": {
      "text/html": [
       "<div>\n",
       "<style scoped>\n",
       "    .dataframe tbody tr th:only-of-type {\n",
       "        vertical-align: middle;\n",
       "    }\n",
       "\n",
       "    .dataframe tbody tr th {\n",
       "        vertical-align: top;\n",
       "    }\n",
       "\n",
       "    .dataframe thead th {\n",
       "        text-align: right;\n",
       "    }\n",
       "</style>\n",
       "<table border=\"1\" class=\"dataframe\">\n",
       "  <thead>\n",
       "    <tr style=\"text-align: right;\">\n",
       "      <th></th>\n",
       "      <th>Age</th>\n",
       "      <th>Attrition</th>\n",
       "      <th>DailyRate</th>\n",
       "      <th>DistanceFromHome</th>\n",
       "      <th>Education</th>\n",
       "      <th>EnvironmentSatisfaction</th>\n",
       "      <th>HourlyRate</th>\n",
       "      <th>JobInvolvement</th>\n",
       "      <th>JobLevel</th>\n",
       "      <th>JobSatisfaction</th>\n",
       "      <th>MonthlyIncome</th>\n",
       "      <th>MonthlyRate</th>\n",
       "      <th>NumCompaniesWorked</th>\n",
       "      <th>OverTime</th>\n",
       "      <th>PercentSalaryHike</th>\n",
       "      <th>PerformanceRating</th>\n",
       "      <th>RelationshipSatisfaction</th>\n",
       "      <th>StockOptionLevel</th>\n",
       "      <th>TotalWorkingYears</th>\n",
       "      <th>TrainingTimesLastYear</th>\n",
       "      <th>WorkLifeBalance</th>\n",
       "      <th>YearsAtCompany</th>\n",
       "      <th>YearsInCurrentRole</th>\n",
       "      <th>YearsSinceLastPromotion</th>\n",
       "      <th>YearsWithCurrManager</th>\n",
       "      <th>BusinessTravel_Travel_Rarely</th>\n",
       "      <th>BusinessTravel_Travel_Frequently</th>\n",
       "      <th>Department_Research &amp; Development</th>\n",
       "      <th>Department_Sales</th>\n",
       "      <th>EducationField_Life Sciences</th>\n",
       "      <th>EducationField_Medical</th>\n",
       "      <th>EducationField_Marketing</th>\n",
       "      <th>EducationField_Technical Degree</th>\n",
       "      <th>EducationField_Other</th>\n",
       "      <th>Gender_Male</th>\n",
       "      <th>JobRole_Sales Executive</th>\n",
       "      <th>JobRole_Research Scientist</th>\n",
       "      <th>JobRole_Laboratory Technician</th>\n",
       "      <th>JobRole_Manufacturing Director</th>\n",
       "      <th>JobRole_Healthcare Representative</th>\n",
       "      <th>JobRole_Manager</th>\n",
       "      <th>JobRole_Sales Representative</th>\n",
       "      <th>JobRole_Research Director</th>\n",
       "      <th>MaritalStatus_Married</th>\n",
       "      <th>MaritalStatus_Single</th>\n",
       "    </tr>\n",
       "    <tr>\n",
       "      <th>EmployeeNumber</th>\n",
       "      <th></th>\n",
       "      <th></th>\n",
       "      <th></th>\n",
       "      <th></th>\n",
       "      <th></th>\n",
       "      <th></th>\n",
       "      <th></th>\n",
       "      <th></th>\n",
       "      <th></th>\n",
       "      <th></th>\n",
       "      <th></th>\n",
       "      <th></th>\n",
       "      <th></th>\n",
       "      <th></th>\n",
       "      <th></th>\n",
       "      <th></th>\n",
       "      <th></th>\n",
       "      <th></th>\n",
       "      <th></th>\n",
       "      <th></th>\n",
       "      <th></th>\n",
       "      <th></th>\n",
       "      <th></th>\n",
       "      <th></th>\n",
       "      <th></th>\n",
       "      <th></th>\n",
       "      <th></th>\n",
       "      <th></th>\n",
       "      <th></th>\n",
       "      <th></th>\n",
       "      <th></th>\n",
       "      <th></th>\n",
       "      <th></th>\n",
       "      <th></th>\n",
       "      <th></th>\n",
       "      <th></th>\n",
       "      <th></th>\n",
       "      <th></th>\n",
       "      <th></th>\n",
       "      <th></th>\n",
       "      <th></th>\n",
       "      <th></th>\n",
       "      <th></th>\n",
       "      <th></th>\n",
       "      <th></th>\n",
       "    </tr>\n",
       "  </thead>\n",
       "  <tbody>\n",
       "    <tr>\n",
       "      <th>1</th>\n",
       "      <td>41</td>\n",
       "      <td>1</td>\n",
       "      <td>1102</td>\n",
       "      <td>0.693147</td>\n",
       "      <td>2</td>\n",
       "      <td>2</td>\n",
       "      <td>94</td>\n",
       "      <td>3</td>\n",
       "      <td>1.098612</td>\n",
       "      <td>4</td>\n",
       "      <td>8.698514</td>\n",
       "      <td>19479</td>\n",
       "      <td>2.197225</td>\n",
       "      <td>1</td>\n",
       "      <td>11</td>\n",
       "      <td>1.386294</td>\n",
       "      <td>1</td>\n",
       "      <td>0.000000</td>\n",
       "      <td>2.197225</td>\n",
       "      <td>0</td>\n",
       "      <td>1</td>\n",
       "      <td>1.945910</td>\n",
       "      <td>1.609438</td>\n",
       "      <td>0.000000</td>\n",
       "      <td>5</td>\n",
       "      <td>1</td>\n",
       "      <td>0</td>\n",
       "      <td>0</td>\n",
       "      <td>1</td>\n",
       "      <td>1</td>\n",
       "      <td>0</td>\n",
       "      <td>0</td>\n",
       "      <td>0</td>\n",
       "      <td>0</td>\n",
       "      <td>0</td>\n",
       "      <td>1</td>\n",
       "      <td>0</td>\n",
       "      <td>0</td>\n",
       "      <td>0</td>\n",
       "      <td>0</td>\n",
       "      <td>0</td>\n",
       "      <td>0</td>\n",
       "      <td>0</td>\n",
       "      <td>0</td>\n",
       "      <td>1</td>\n",
       "    </tr>\n",
       "    <tr>\n",
       "      <th>2</th>\n",
       "      <td>49</td>\n",
       "      <td>0</td>\n",
       "      <td>279</td>\n",
       "      <td>2.197225</td>\n",
       "      <td>1</td>\n",
       "      <td>3</td>\n",
       "      <td>61</td>\n",
       "      <td>2</td>\n",
       "      <td>1.098612</td>\n",
       "      <td>2</td>\n",
       "      <td>8.543056</td>\n",
       "      <td>24907</td>\n",
       "      <td>0.693147</td>\n",
       "      <td>0</td>\n",
       "      <td>23</td>\n",
       "      <td>1.609438</td>\n",
       "      <td>4</td>\n",
       "      <td>0.693147</td>\n",
       "      <td>2.397895</td>\n",
       "      <td>3</td>\n",
       "      <td>3</td>\n",
       "      <td>2.397895</td>\n",
       "      <td>2.079442</td>\n",
       "      <td>0.693147</td>\n",
       "      <td>7</td>\n",
       "      <td>0</td>\n",
       "      <td>1</td>\n",
       "      <td>1</td>\n",
       "      <td>0</td>\n",
       "      <td>1</td>\n",
       "      <td>0</td>\n",
       "      <td>0</td>\n",
       "      <td>0</td>\n",
       "      <td>0</td>\n",
       "      <td>1</td>\n",
       "      <td>0</td>\n",
       "      <td>1</td>\n",
       "      <td>0</td>\n",
       "      <td>0</td>\n",
       "      <td>0</td>\n",
       "      <td>0</td>\n",
       "      <td>0</td>\n",
       "      <td>0</td>\n",
       "      <td>1</td>\n",
       "      <td>0</td>\n",
       "    </tr>\n",
       "    <tr>\n",
       "      <th>4</th>\n",
       "      <td>37</td>\n",
       "      <td>1</td>\n",
       "      <td>1373</td>\n",
       "      <td>1.098612</td>\n",
       "      <td>2</td>\n",
       "      <td>4</td>\n",
       "      <td>92</td>\n",
       "      <td>2</td>\n",
       "      <td>0.693147</td>\n",
       "      <td>3</td>\n",
       "      <td>7.645398</td>\n",
       "      <td>2396</td>\n",
       "      <td>1.945910</td>\n",
       "      <td>1</td>\n",
       "      <td>15</td>\n",
       "      <td>1.386294</td>\n",
       "      <td>2</td>\n",
       "      <td>0.000000</td>\n",
       "      <td>2.079442</td>\n",
       "      <td>3</td>\n",
       "      <td>3</td>\n",
       "      <td>0.000000</td>\n",
       "      <td>0.000000</td>\n",
       "      <td>0.000000</td>\n",
       "      <td>0</td>\n",
       "      <td>1</td>\n",
       "      <td>0</td>\n",
       "      <td>1</td>\n",
       "      <td>0</td>\n",
       "      <td>0</td>\n",
       "      <td>0</td>\n",
       "      <td>0</td>\n",
       "      <td>0</td>\n",
       "      <td>1</td>\n",
       "      <td>1</td>\n",
       "      <td>0</td>\n",
       "      <td>0</td>\n",
       "      <td>1</td>\n",
       "      <td>0</td>\n",
       "      <td>0</td>\n",
       "      <td>0</td>\n",
       "      <td>0</td>\n",
       "      <td>0</td>\n",
       "      <td>0</td>\n",
       "      <td>1</td>\n",
       "    </tr>\n",
       "    <tr>\n",
       "      <th>5</th>\n",
       "      <td>33</td>\n",
       "      <td>0</td>\n",
       "      <td>1392</td>\n",
       "      <td>1.386294</td>\n",
       "      <td>4</td>\n",
       "      <td>4</td>\n",
       "      <td>56</td>\n",
       "      <td>3</td>\n",
       "      <td>0.693147</td>\n",
       "      <td>3</td>\n",
       "      <td>7.975908</td>\n",
       "      <td>23159</td>\n",
       "      <td>0.693147</td>\n",
       "      <td>1</td>\n",
       "      <td>11</td>\n",
       "      <td>1.386294</td>\n",
       "      <td>3</td>\n",
       "      <td>0.000000</td>\n",
       "      <td>2.197225</td>\n",
       "      <td>3</td>\n",
       "      <td>3</td>\n",
       "      <td>2.197225</td>\n",
       "      <td>2.079442</td>\n",
       "      <td>1.386294</td>\n",
       "      <td>0</td>\n",
       "      <td>0</td>\n",
       "      <td>1</td>\n",
       "      <td>1</td>\n",
       "      <td>0</td>\n",
       "      <td>1</td>\n",
       "      <td>0</td>\n",
       "      <td>0</td>\n",
       "      <td>0</td>\n",
       "      <td>0</td>\n",
       "      <td>0</td>\n",
       "      <td>0</td>\n",
       "      <td>1</td>\n",
       "      <td>0</td>\n",
       "      <td>0</td>\n",
       "      <td>0</td>\n",
       "      <td>0</td>\n",
       "      <td>0</td>\n",
       "      <td>0</td>\n",
       "      <td>1</td>\n",
       "      <td>0</td>\n",
       "    </tr>\n",
       "    <tr>\n",
       "      <th>7</th>\n",
       "      <td>27</td>\n",
       "      <td>0</td>\n",
       "      <td>591</td>\n",
       "      <td>1.098612</td>\n",
       "      <td>1</td>\n",
       "      <td>1</td>\n",
       "      <td>40</td>\n",
       "      <td>3</td>\n",
       "      <td>0.693147</td>\n",
       "      <td>2</td>\n",
       "      <td>8.151622</td>\n",
       "      <td>16632</td>\n",
       "      <td>2.302585</td>\n",
       "      <td>0</td>\n",
       "      <td>12</td>\n",
       "      <td>1.386294</td>\n",
       "      <td>4</td>\n",
       "      <td>0.693147</td>\n",
       "      <td>1.945910</td>\n",
       "      <td>3</td>\n",
       "      <td>3</td>\n",
       "      <td>1.098612</td>\n",
       "      <td>1.098612</td>\n",
       "      <td>1.098612</td>\n",
       "      <td>2</td>\n",
       "      <td>1</td>\n",
       "      <td>0</td>\n",
       "      <td>1</td>\n",
       "      <td>0</td>\n",
       "      <td>0</td>\n",
       "      <td>1</td>\n",
       "      <td>0</td>\n",
       "      <td>0</td>\n",
       "      <td>0</td>\n",
       "      <td>1</td>\n",
       "      <td>0</td>\n",
       "      <td>0</td>\n",
       "      <td>1</td>\n",
       "      <td>0</td>\n",
       "      <td>0</td>\n",
       "      <td>0</td>\n",
       "      <td>0</td>\n",
       "      <td>0</td>\n",
       "      <td>1</td>\n",
       "      <td>0</td>\n",
       "    </tr>\n",
       "  </tbody>\n",
       "</table>\n",
       "</div>"
      ],
      "text/plain": [
       "                Age  Attrition  DailyRate  DistanceFromHome  Education  \\\n",
       "EmployeeNumber                                                           \n",
       "1                41          1       1102          0.693147          2   \n",
       "2                49          0        279          2.197225          1   \n",
       "4                37          1       1373          1.098612          2   \n",
       "5                33          0       1392          1.386294          4   \n",
       "7                27          0        591          1.098612          1   \n",
       "\n",
       "                EnvironmentSatisfaction  HourlyRate  JobInvolvement  JobLevel  \\\n",
       "EmployeeNumber                                                                  \n",
       "1                                     2          94               3  1.098612   \n",
       "2                                     3          61               2  1.098612   \n",
       "4                                     4          92               2  0.693147   \n",
       "5                                     4          56               3  0.693147   \n",
       "7                                     1          40               3  0.693147   \n",
       "\n",
       "                JobSatisfaction  MonthlyIncome  MonthlyRate  \\\n",
       "EmployeeNumber                                                \n",
       "1                             4       8.698514        19479   \n",
       "2                             2       8.543056        24907   \n",
       "4                             3       7.645398         2396   \n",
       "5                             3       7.975908        23159   \n",
       "7                             2       8.151622        16632   \n",
       "\n",
       "                NumCompaniesWorked  OverTime  PercentSalaryHike  \\\n",
       "EmployeeNumber                                                    \n",
       "1                         2.197225         1                 11   \n",
       "2                         0.693147         0                 23   \n",
       "4                         1.945910         1                 15   \n",
       "5                         0.693147         1                 11   \n",
       "7                         2.302585         0                 12   \n",
       "\n",
       "                PerformanceRating  RelationshipSatisfaction  StockOptionLevel  \\\n",
       "EmployeeNumber                                                                  \n",
       "1                        1.386294                         1          0.000000   \n",
       "2                        1.609438                         4          0.693147   \n",
       "4                        1.386294                         2          0.000000   \n",
       "5                        1.386294                         3          0.000000   \n",
       "7                        1.386294                         4          0.693147   \n",
       "\n",
       "                TotalWorkingYears  TrainingTimesLastYear  WorkLifeBalance  \\\n",
       "EmployeeNumber                                                              \n",
       "1                        2.197225                      0                1   \n",
       "2                        2.397895                      3                3   \n",
       "4                        2.079442                      3                3   \n",
       "5                        2.197225                      3                3   \n",
       "7                        1.945910                      3                3   \n",
       "\n",
       "                YearsAtCompany  YearsInCurrentRole  YearsSinceLastPromotion  \\\n",
       "EmployeeNumber                                                                \n",
       "1                     1.945910            1.609438                 0.000000   \n",
       "2                     2.397895            2.079442                 0.693147   \n",
       "4                     0.000000            0.000000                 0.000000   \n",
       "5                     2.197225            2.079442                 1.386294   \n",
       "7                     1.098612            1.098612                 1.098612   \n",
       "\n",
       "                YearsWithCurrManager  BusinessTravel_Travel_Rarely  \\\n",
       "EmployeeNumber                                                       \n",
       "1                                  5                             1   \n",
       "2                                  7                             0   \n",
       "4                                  0                             1   \n",
       "5                                  0                             0   \n",
       "7                                  2                             1   \n",
       "\n",
       "                BusinessTravel_Travel_Frequently  \\\n",
       "EmployeeNumber                                     \n",
       "1                                              0   \n",
       "2                                              1   \n",
       "4                                              0   \n",
       "5                                              1   \n",
       "7                                              0   \n",
       "\n",
       "                Department_Research & Development  Department_Sales  \\\n",
       "EmployeeNumber                                                        \n",
       "1                                               0                 1   \n",
       "2                                               1                 0   \n",
       "4                                               1                 0   \n",
       "5                                               1                 0   \n",
       "7                                               1                 0   \n",
       "\n",
       "                EducationField_Life Sciences  EducationField_Medical  \\\n",
       "EmployeeNumber                                                         \n",
       "1                                          1                       0   \n",
       "2                                          1                       0   \n",
       "4                                          0                       0   \n",
       "5                                          1                       0   \n",
       "7                                          0                       1   \n",
       "\n",
       "                EducationField_Marketing  EducationField_Technical Degree  \\\n",
       "EmployeeNumber                                                              \n",
       "1                                      0                                0   \n",
       "2                                      0                                0   \n",
       "4                                      0                                0   \n",
       "5                                      0                                0   \n",
       "7                                      0                                0   \n",
       "\n",
       "                EducationField_Other  Gender_Male  JobRole_Sales Executive  \\\n",
       "EmployeeNumber                                                               \n",
       "1                                  0            0                        1   \n",
       "2                                  0            1                        0   \n",
       "4                                  1            1                        0   \n",
       "5                                  0            0                        0   \n",
       "7                                  0            1                        0   \n",
       "\n",
       "                JobRole_Research Scientist  JobRole_Laboratory Technician  \\\n",
       "EmployeeNumber                                                              \n",
       "1                                        0                              0   \n",
       "2                                        1                              0   \n",
       "4                                        0                              1   \n",
       "5                                        1                              0   \n",
       "7                                        0                              1   \n",
       "\n",
       "                JobRole_Manufacturing Director  \\\n",
       "EmployeeNumber                                   \n",
       "1                                            0   \n",
       "2                                            0   \n",
       "4                                            0   \n",
       "5                                            0   \n",
       "7                                            0   \n",
       "\n",
       "                JobRole_Healthcare Representative  JobRole_Manager  \\\n",
       "EmployeeNumber                                                       \n",
       "1                                               0                0   \n",
       "2                                               0                0   \n",
       "4                                               0                0   \n",
       "5                                               0                0   \n",
       "7                                               0                0   \n",
       "\n",
       "                JobRole_Sales Representative  JobRole_Research Director  \\\n",
       "EmployeeNumber                                                            \n",
       "1                                          0                          0   \n",
       "2                                          0                          0   \n",
       "4                                          0                          0   \n",
       "5                                          0                          0   \n",
       "7                                          0                          0   \n",
       "\n",
       "                MaritalStatus_Married  MaritalStatus_Single  \n",
       "EmployeeNumber                                               \n",
       "1                                   0                     1  \n",
       "2                                   1                     0  \n",
       "4                                   0                     1  \n",
       "5                                   1                     0  \n",
       "7                                   1                     0  "
      ]
     },
     "execution_count": 26,
     "metadata": {},
     "output_type": "execute_result"
    }
   ],
   "source": [
    "df.head()"
   ]
  },
  {
   "cell_type": "code",
   "execution_count": 27,
   "id": "1e2444fb",
   "metadata": {},
   "outputs": [],
   "source": [
    "X=df.drop('Attrition',axis=1)\n",
    "y=df['Attrition']\n",
    "\n",
    "from sklearn.model_selection import train_test_split\n",
    "X_train, X_test, y_train, y_test = train_test_split(X, y, test_size=0.3, random_state=3, stratify=y)\n",
    "\n",
    "\n",
    "import warnings \n",
    "warnings.filterwarnings('ignore')\n",
    "pd.set_option('display.max_rows',None)\n",
    "pd.set_option('display.max_column',None)\n",
    "\n",
    "import os\n",
    "for dirname, _, filenames in os.walk('/kaggle/input'):\n",
    "    for filename in filenames:\n",
    "        print(os.path.join(dirname, filename))"
   ]
  },
  {
   "cell_type": "code",
   "execution_count": 31,
   "id": "a582f4d7",
   "metadata": {},
   "outputs": [
    {
     "data": {
      "text/plain": [
       "(1470, 45)"
      ]
     },
     "execution_count": 31,
     "metadata": {},
     "output_type": "execute_result"
    }
   ],
   "source": [
    "df.shape"
   ]
  },
  {
   "cell_type": "code",
   "execution_count": 32,
   "id": "6df794f6",
   "metadata": {},
   "outputs": [
    {
     "data": {
      "text/plain": [
       "<AxesSubplot:>"
      ]
     },
     "execution_count": 32,
     "metadata": {},
     "output_type": "execute_result"
    },
    {
     "data": {
      "image/png": "[encoded data removed]",
      "text/plain": [
       "<Figure size 1440x864 with 2 Axes>"
      ]
     },
     "metadata": {
      "needs_background": "light"
     },
     "output_type": "display_data"
    }
   ],
   "source": [
    "corr=df.corr()\n",
    "cols=corr.nlargest(15,'Attrition').index\n",
    "cm = np.corrcoef(df[cols].values.T)\n",
    "plt.figure(figsize=(20,12))\n",
    "sns.heatmap(cm,annot=True, yticklabels = cols.values, xticklabels = cols.values, mask = np.triu(cm))"
   ]
  },
  {
   "cell_type": "code",
   "execution_count": null,
   "id": "b97a401c",
   "metadata": {},
   "outputs": [],
   "source": [
    "# Top 20 Features having a correlation with the Target Variable\n",
    "# Suggestions :-\n",
    "# JobRole or Department ? (Collinearity is present for these 2 features )\n",
    "# Dropping the Department Column would be a wiser choice as JobRole will get a clearer picture on the specific profiles to look into"
   ]
  },
  {
   "cell_type": "code",
   "execution_count": 33,
   "id": "4bf4dce5",
   "metadata": {},
   "outputs": [],
   "source": [
    "#scaling the data\n",
    "\n",
    "from sklearn.preprocessing import StandardScaler\n",
    "ss=StandardScaler()\n",
    "cols=list(df.columns)\n",
    "cols.remove('Attrition')\n",
    "for col in cols:\n",
    "    df[col]=df[col].astype(float)\n",
    "    df[[col]]=ss.fit_transform(df[[col]])\n",
    "df['Attrition']=pd.to_numeric(df['Attrition'],downcast='integer')"
   ]
  },
  {
   "cell_type": "code",
   "execution_count": 34,
   "id": "780aaa67",
   "metadata": {},
   "outputs": [],
   "source": [
    "#PCA\n",
    "\n",
    "# PCA is a method used to reduce number of variables in the data by extracting important one from a large pool. It reduces the dimension of data with the aim of retaining as much information as possible\n",
    "\n",
    "cov_matirx=np.cov(X.T)\n",
    "eig_vals,eig_vectors=np.linalg.eig(cov_matirx)"
   ]
  },
  {
   "cell_type": "code",
   "execution_count": 46,
   "id": "91b4c916",
   "metadata": {},
   "outputs": [
    {
     "data": {
      "text/plain": [
       "array([5.06630475e+07, 1.62650679e+05, 4.13055811e+02, 8.45331536e+01,\n",
       "       1.29153027e+01, 1.34857389e+01, 1.67317893e+00, 1.22621448e+00,\n",
       "       1.19540849e+00, 1.16681963e+00, 1.00309647e+00, 7.39474046e-01,\n",
       "       7.20212257e-01, 5.88940324e-01, 5.05449050e-01, 4.89367448e-01,\n",
       "       4.67814061e-01, 4.44108135e-01, 3.59819125e-01, 3.49893599e-01,\n",
       "       3.11456800e-01, 2.89367319e-01, 2.43134085e-01, 2.00685704e-01,\n",
       "       1.77539721e-01, 1.61278279e-01, 1.37093507e-01, 1.15346502e-01,\n",
       "       9.42076680e-02, 9.10843953e-02, 8.89406995e-02, 7.74199198e-02,\n",
       "       6.46009927e-02, 5.97852499e-02, 5.67611117e-02, 4.18403546e-02,\n",
       "       3.63116098e-02, 2.66633392e-02, 1.64727562e-02, 1.00045617e-02,\n",
       "       6.71966026e-03, 2.54370106e-03, 1.95498692e-03, 5.58907485e-04])"
      ]
     },
     "execution_count": 46,
     "metadata": {},
     "output_type": "execute_result"
    }
   ],
   "source": [
    "eig_vals\n",
    "# The values are not in order , we need to sort the values "
   ]
  },
  {
   "cell_type": "code",
   "execution_count": 56,
   "id": "a51a646c",
   "metadata": {},
   "outputs": [
    {
     "name": "stdout",
     "output_type": "stream",
     "text": [
      "Cumulative variance Explained: [ 99.67892977  99.998943    99.99975569  99.999922    99.99994854\n",
      "  99.99997395  99.99997724  99.99997965  99.999982    99.9999843\n",
      "  99.99998627  99.99998773  99.99998915  99.9999903   99.9999913\n",
      "  99.99999226  99.99999318  99.99999406  99.99999476  99.99999545\n",
      "  99.99999606  99.99999663  99.99999711  99.99999751  99.99999786\n",
      "  99.99999817  99.99999844  99.99999867  99.99999886  99.99999903\n",
      "  99.99999921  99.99999936  99.99999949  99.99999961  99.99999972\n",
      "  99.9999998   99.99999987  99.99999992  99.99999996  99.99999998\n",
      "  99.99999999 100.         100.         100.        ]\n"
     ]
    }
   ],
   "source": [
    "tot=sum(eig_vals)\n",
    "var_exp=[(i/tot)*100 for i in sorted(eig_vals,reverse=True)]\n",
    "\n",
    "cum_var_exp=np.cumsum(var_exp)\n",
    "print('Cumulative variance Explained:',cum_var_exp)\n"
   ]
  },
  {
   "cell_type": "code",
   "execution_count": 57,
   "id": "2b98708d",
   "metadata": {},
   "outputs": [
    {
     "data": {
      "image/png": "[encoded data removed]",
      "text/plain": [
       "<Figure size 1080x288 with 1 Axes>"
      ]
     },
     "metadata": {
      "needs_background": "light"
     },
     "output_type": "display_data"
    }
   ],
   "source": [
    "plt.figure(figsize=(15,4))\n",
    "plt.bar(range(X.shape[1]),var_exp,alpha=0.5,align='center',label='Individual explained variance')\n",
    "plt.step(range(X.shape[1]),cum_var_exp,where='mid',label='cummulative explained variance')\n",
    "plt.ylabel(\"explained variance ratio\")\n",
    "plt.xlabel(\"principal components\")\n",
    "plt.legend(loc='best')\n",
    "plt.tight_layout()\n",
    "plt.show()"
   ]
  },
  {
   "cell_type": "code",
   "execution_count": 58,
   "id": "cd1cf714",
   "metadata": {},
   "outputs": [],
   "source": [
    "eigen_pairs=[(np.abs(eig_vals[i]),eig_vectors[:,i]) for i in range(len(eig_vals))]\n",
    "\n",
    "eig_val_sort=[eigen_pairs[index][0] for index in range(len(eig_vals))]\n",
    "eig_vec_sort=[eigen_pairs[index][1] for index in range(len(eig_vals))]"
   ]
  },
  {
   "cell_type": "code",
   "execution_count": 59,
   "id": "7ad5fbcc",
   "metadata": {},
   "outputs": [
    {
     "data": {
      "text/html": [
       "<div>\n",
       "<style scoped>\n",
       "    .dataframe tbody tr th:only-of-type {\n",
       "        vertical-align: middle;\n",
       "    }\n",
       "\n",
       "    .dataframe tbody tr th {\n",
       "        vertical-align: top;\n",
       "    }\n",
       "\n",
       "    .dataframe thead th {\n",
       "        text-align: right;\n",
       "    }\n",
       "</style>\n",
       "<table border=\"1\" class=\"dataframe\">\n",
       "  <thead>\n",
       "    <tr style=\"text-align: right;\">\n",
       "      <th></th>\n",
       "      <th>0</th>\n",
       "      <th>1</th>\n",
       "      <th>2</th>\n",
       "      <th>3</th>\n",
       "      <th>4</th>\n",
       "      <th>5</th>\n",
       "      <th>6</th>\n",
       "      <th>7</th>\n",
       "      <th>8</th>\n",
       "      <th>9</th>\n",
       "      <th>10</th>\n",
       "      <th>11</th>\n",
       "      <th>12</th>\n",
       "      <th>13</th>\n",
       "      <th>14</th>\n",
       "      <th>15</th>\n",
       "      <th>16</th>\n",
       "      <th>17</th>\n",
       "      <th>18</th>\n",
       "      <th>19</th>\n",
       "      <th>20</th>\n",
       "      <th>21</th>\n",
       "      <th>22</th>\n",
       "      <th>23</th>\n",
       "      <th>24</th>\n",
       "      <th>25</th>\n",
       "      <th>26</th>\n",
       "      <th>27</th>\n",
       "      <th>28</th>\n",
       "      <th>29</th>\n",
       "      <th>30</th>\n",
       "      <th>31</th>\n",
       "      <th>32</th>\n",
       "      <th>33</th>\n",
       "      <th>34</th>\n",
       "      <th>35</th>\n",
       "      <th>36</th>\n",
       "    </tr>\n",
       "  </thead>\n",
       "  <tbody>\n",
       "    <tr>\n",
       "      <th>0</th>\n",
       "      <td>19476.947681</td>\n",
       "      <td>-1137.771004</td>\n",
       "      <td>-94.010864</td>\n",
       "      <td>-39.623179</td>\n",
       "      <td>-6.793649</td>\n",
       "      <td>8.960195</td>\n",
       "      <td>-0.262256</td>\n",
       "      <td>2.380275</td>\n",
       "      <td>3.566072</td>\n",
       "      <td>0.957146</td>\n",
       "      <td>2.477114</td>\n",
       "      <td>2.160801</td>\n",
       "      <td>2.543262</td>\n",
       "      <td>0.227354</td>\n",
       "      <td>1.835377</td>\n",
       "      <td>-1.925591</td>\n",
       "      <td>-3.794471</td>\n",
       "      <td>1.886200</td>\n",
       "      <td>1.658534</td>\n",
       "      <td>0.603216</td>\n",
       "      <td>0.544681</td>\n",
       "      <td>1.444054</td>\n",
       "      <td>-0.169172</td>\n",
       "      <td>0.660561</td>\n",
       "      <td>0.436220</td>\n",
       "      <td>0.136655</td>\n",
       "      <td>0.445239</td>\n",
       "      <td>0.858998</td>\n",
       "      <td>1.393022</td>\n",
       "      <td>1.827807</td>\n",
       "      <td>-0.922530</td>\n",
       "      <td>-0.879270</td>\n",
       "      <td>0.859376</td>\n",
       "      <td>0.522747</td>\n",
       "      <td>-0.063281</td>\n",
       "      <td>-1.370440</td>\n",
       "      <td>1.138385</td>\n",
       "    </tr>\n",
       "    <tr>\n",
       "      <th>1</th>\n",
       "      <td>24906.446533</td>\n",
       "      <td>-324.673519</td>\n",
       "      <td>-62.276042</td>\n",
       "      <td>-48.180379</td>\n",
       "      <td>-12.498168</td>\n",
       "      <td>19.678197</td>\n",
       "      <td>2.863834</td>\n",
       "      <td>-0.937235</td>\n",
       "      <td>4.307881</td>\n",
       "      <td>3.056229</td>\n",
       "      <td>1.742609</td>\n",
       "      <td>2.914629</td>\n",
       "      <td>1.395065</td>\n",
       "      <td>-1.276124</td>\n",
       "      <td>1.200244</td>\n",
       "      <td>-3.453082</td>\n",
       "      <td>-1.778948</td>\n",
       "      <td>0.171025</td>\n",
       "      <td>2.719792</td>\n",
       "      <td>0.612763</td>\n",
       "      <td>-0.470105</td>\n",
       "      <td>1.988521</td>\n",
       "      <td>0.774708</td>\n",
       "      <td>0.507229</td>\n",
       "      <td>-0.933616</td>\n",
       "      <td>0.289903</td>\n",
       "      <td>0.273256</td>\n",
       "      <td>0.465708</td>\n",
       "      <td>1.541551</td>\n",
       "      <td>2.007313</td>\n",
       "      <td>-0.837558</td>\n",
       "      <td>-0.538440</td>\n",
       "      <td>0.632488</td>\n",
       "      <td>0.716735</td>\n",
       "      <td>-0.058025</td>\n",
       "      <td>-1.535601</td>\n",
       "      <td>1.121324</td>\n",
       "    </tr>\n",
       "    <tr>\n",
       "      <th>2</th>\n",
       "      <td>2393.480358</td>\n",
       "      <td>-1377.501942</td>\n",
       "      <td>-90.950651</td>\n",
       "      <td>-35.598556</td>\n",
       "      <td>-3.383587</td>\n",
       "      <td>14.603610</td>\n",
       "      <td>2.707387</td>\n",
       "      <td>0.003264</td>\n",
       "      <td>5.086659</td>\n",
       "      <td>0.954303</td>\n",
       "      <td>3.057087</td>\n",
       "      <td>1.961548</td>\n",
       "      <td>1.680817</td>\n",
       "      <td>-0.370416</td>\n",
       "      <td>0.418438</td>\n",
       "      <td>-3.827752</td>\n",
       "      <td>-3.021845</td>\n",
       "      <td>1.388732</td>\n",
       "      <td>1.046047</td>\n",
       "      <td>0.649355</td>\n",
       "      <td>0.709149</td>\n",
       "      <td>2.465627</td>\n",
       "      <td>0.810983</td>\n",
       "      <td>0.819659</td>\n",
       "      <td>0.806619</td>\n",
       "      <td>0.406621</td>\n",
       "      <td>-0.541622</td>\n",
       "      <td>0.297059</td>\n",
       "      <td>1.668378</td>\n",
       "      <td>1.708353</td>\n",
       "      <td>-0.756159</td>\n",
       "      <td>-0.254394</td>\n",
       "      <td>0.167647</td>\n",
       "      <td>-0.155841</td>\n",
       "      <td>-0.079064</td>\n",
       "      <td>-1.278362</td>\n",
       "      <td>1.189309</td>\n",
       "    </tr>\n",
       "    <tr>\n",
       "      <th>3</th>\n",
       "      <td>23156.412193</td>\n",
       "      <td>-1434.460698</td>\n",
       "      <td>-55.734590</td>\n",
       "      <td>-31.546381</td>\n",
       "      <td>-3.323159</td>\n",
       "      <td>10.249192</td>\n",
       "      <td>2.523603</td>\n",
       "      <td>0.009812</td>\n",
       "      <td>4.661996</td>\n",
       "      <td>1.732356</td>\n",
       "      <td>5.126614</td>\n",
       "      <td>2.665540</td>\n",
       "      <td>2.729104</td>\n",
       "      <td>-3.079040</td>\n",
       "      <td>1.934350</td>\n",
       "      <td>-3.276290</td>\n",
       "      <td>-1.560407</td>\n",
       "      <td>1.183930</td>\n",
       "      <td>2.527647</td>\n",
       "      <td>0.602617</td>\n",
       "      <td>-0.429545</td>\n",
       "      <td>1.884397</td>\n",
       "      <td>-0.380953</td>\n",
       "      <td>0.956014</td>\n",
       "      <td>-0.259745</td>\n",
       "      <td>0.803506</td>\n",
       "      <td>0.331280</td>\n",
       "      <td>0.170479</td>\n",
       "      <td>1.363908</td>\n",
       "      <td>1.757948</td>\n",
       "      <td>-0.595397</td>\n",
       "      <td>-0.438733</td>\n",
       "      <td>0.675468</td>\n",
       "      <td>0.750192</td>\n",
       "      <td>-0.135859</td>\n",
       "      <td>-1.307495</td>\n",
       "      <td>0.746407</td>\n",
       "    </tr>\n",
       "    <tr>\n",
       "      <th>4</th>\n",
       "      <td>16630.889607</td>\n",
       "      <td>-621.496062</td>\n",
       "      <td>-40.321543</td>\n",
       "      <td>-26.319762</td>\n",
       "      <td>-5.304279</td>\n",
       "      <td>10.655773</td>\n",
       "      <td>2.878272</td>\n",
       "      <td>-0.179847</td>\n",
       "      <td>2.315813</td>\n",
       "      <td>3.620357</td>\n",
       "      <td>1.884824</td>\n",
       "      <td>2.438009</td>\n",
       "      <td>2.407470</td>\n",
       "      <td>-2.132961</td>\n",
       "      <td>1.962865</td>\n",
       "      <td>-4.049148</td>\n",
       "      <td>-3.461046</td>\n",
       "      <td>0.312332</td>\n",
       "      <td>0.519088</td>\n",
       "      <td>0.481894</td>\n",
       "      <td>0.634351</td>\n",
       "      <td>2.047050</td>\n",
       "      <td>1.027638</td>\n",
       "      <td>0.027857</td>\n",
       "      <td>0.432832</td>\n",
       "      <td>0.320115</td>\n",
       "      <td>0.157949</td>\n",
       "      <td>0.534163</td>\n",
       "      <td>1.510290</td>\n",
       "      <td>1.865825</td>\n",
       "      <td>-0.755614</td>\n",
       "      <td>-0.500569</td>\n",
       "      <td>0.487798</td>\n",
       "      <td>0.703638</td>\n",
       "      <td>0.122827</td>\n",
       "      <td>-1.347756</td>\n",
       "      <td>1.124105</td>\n",
       "    </tr>\n",
       "  </tbody>\n",
       "</table>\n",
       "</div>"
      ],
      "text/plain": [
       "             0            1          2          3          4          5   \\\n",
       "0  19476.947681 -1137.771004 -94.010864 -39.623179  -6.793649   8.960195   \n",
       "1  24906.446533  -324.673519 -62.276042 -48.180379 -12.498168  19.678197   \n",
       "2   2393.480358 -1377.501942 -90.950651 -35.598556  -3.383587  14.603610   \n",
       "3  23156.412193 -1434.460698 -55.734590 -31.546381  -3.323159  10.249192   \n",
       "4  16630.889607  -621.496062 -40.321543 -26.319762  -5.304279  10.655773   \n",
       "\n",
       "         6         7         8         9         10        11        12  \\\n",
       "0 -0.262256  2.380275  3.566072  0.957146  2.477114  2.160801  2.543262   \n",
       "1  2.863834 -0.937235  4.307881  3.056229  1.742609  2.914629  1.395065   \n",
       "2  2.707387  0.003264  5.086659  0.954303  3.057087  1.961548  1.680817   \n",
       "3  2.523603  0.009812  4.661996  1.732356  5.126614  2.665540  2.729104   \n",
       "4  2.878272 -0.179847  2.315813  3.620357  1.884824  2.438009  2.407470   \n",
       "\n",
       "         13        14        15        16        17        18        19  \\\n",
       "0  0.227354  1.835377 -1.925591 -3.794471  1.886200  1.658534  0.603216   \n",
       "1 -1.276124  1.200244 -3.453082 -1.778948  0.171025  2.719792  0.612763   \n",
       "2 -0.370416  0.418438 -3.827752 -3.021845  1.388732  1.046047  0.649355   \n",
       "3 -3.079040  1.934350 -3.276290 -1.560407  1.183930  2.527647  0.602617   \n",
       "4 -2.132961  1.962865 -4.049148 -3.461046  0.312332  0.519088  0.481894   \n",
       "\n",
       "         20        21        22        23        24        25        26  \\\n",
       "0  0.544681  1.444054 -0.169172  0.660561  0.436220  0.136655  0.445239   \n",
       "1 -0.470105  1.988521  0.774708  0.507229 -0.933616  0.289903  0.273256   \n",
       "2  0.709149  2.465627  0.810983  0.819659  0.806619  0.406621 -0.541622   \n",
       "3 -0.429545  1.884397 -0.380953  0.956014 -0.259745  0.803506  0.331280   \n",
       "4  0.634351  2.047050  1.027638  0.027857  0.432832  0.320115  0.157949   \n",
       "\n",
       "         27        28        29        30        31        32        33  \\\n",
       "0  0.858998  1.393022  1.827807 -0.922530 -0.879270  0.859376  0.522747   \n",
       "1  0.465708  1.541551  2.007313 -0.837558 -0.538440  0.632488  0.716735   \n",
       "2  0.297059  1.668378  1.708353 -0.756159 -0.254394  0.167647 -0.155841   \n",
       "3  0.170479  1.363908  1.757948 -0.595397 -0.438733  0.675468  0.750192   \n",
       "4  0.534163  1.510290  1.865825 -0.755614 -0.500569  0.487798  0.703638   \n",
       "\n",
       "         34        35        36  \n",
       "0 -0.063281 -1.370440  1.138385  \n",
       "1 -0.058025 -1.535601  1.121324  \n",
       "2 -0.079064 -1.278362  1.189309  \n",
       "3 -0.135859 -1.307495  0.746407  \n",
       "4  0.122827 -1.347756  1.124105  "
      ]
     },
     "execution_count": 59,
     "metadata": {},
     "output_type": "execute_result"
    }
   ],
   "source": [
    "eig_val_sort.sort(reverse=True)\n",
    "P_reduce=np.array(eig_vec_sort[0:37]).T\n",
    "projected_data=np.dot(X,P_reduce)\n",
    "\n",
    "projected_data_df=pd.DataFrame(projected_data)\n",
    "projected_data_df.head()"
   ]
  },
  {
   "cell_type": "code",
   "execution_count": 41,
   "id": "7871f9d2",
   "metadata": {},
   "outputs": [
    {
     "data": {
      "text/plain": [
       "(1470, 37)"
      ]
     },
     "execution_count": 41,
     "metadata": {},
     "output_type": "execute_result"
    }
   ],
   "source": []
  },
  {
   "cell_type": "code",
   "execution_count": 42,
   "id": "478e273f",
   "metadata": {},
   "outputs": [],
   "source": [
    "from sklearn.model_selection import train_test_split\n",
    "X_train, X_test, y_train, y_test = train_test_split(X, y, test_size=0.3, random_state=3, stratify=y)"
   ]
  },
  {
   "cell_type": "code",
   "execution_count": 43,
   "id": "2038a3a9",
   "metadata": {},
   "outputs": [
    {
     "name": "stdout",
     "output_type": "stream",
     "text": [
      "(1029, 44)\n",
      "(441, 44)\n",
      "(1029,)\n",
      "(441,)\n",
      "(1470, 44)\n",
      "(1470,)\n"
     ]
    }
   ],
   "source": [
    "print(X_train.shape)\n",
    "print(X_test.shape)\n",
    "print(y_train.shape)\n",
    "print(y_test.shape)\n",
    "print(X.shape)\n",
    "print(y.shape)"
   ]
  },
  {
   "cell_type": "code",
   "execution_count": 70,
   "id": "0314b699",
   "metadata": {},
   "outputs": [],
   "source": [
    "# Applying PCA function on training \n",
    "# and testing set of X component \n",
    "from sklearn.decomposition import PCA\n",
    "\n",
    "\n",
    "pca = PCA(n_components = 37)\n",
    "X_train_pca = pca.fit_transform(X_train)\n",
    "X_test_pca = pca.transform(X_test)                          \n"
   ]
  },
  {
   "cell_type": "code",
   "execution_count": 71,
   "id": "a05c79c0",
   "metadata": {},
   "outputs": [
    {
     "name": "stdout",
     "output_type": "stream",
     "text": [
      "Confusion matrix - Train : \n",
      " [[847  16]\n",
      " [103  63]]\n",
      "Overall Accuracy - Train : 0.8843537414965986\n",
      "AUC - Train: 0.8437434558628488\n",
      "**************************************************\n",
      "Confusion matrix - Test : \n",
      " [[359  11]\n",
      " [ 58  13]]\n",
      "Overall Accuracy - Test : 0.8435374149659864\n",
      "AUC - Test: 0.7511229539398554\n",
      "**************************************************\n",
      "Cross Val Scores\n",
      "[0.78832117 0.71988666 0.68058764]\n",
      "Bias Error    : 27.040151118502777\n",
      "Variance Error: 4.451492703461041\n"
     ]
    },
    {
     "data": {
      "text/plain": [
       "Text(0, 0.5, 'TPR')"
      ]
     },
     "execution_count": 71,
     "metadata": {},
     "output_type": "execute_result"
    },
    {
     "data": {
      "image/png": "[encoded data removed]",
      "text/plain": [
       "<Figure size 432x288 with 1 Axes>"
      ]
     },
     "metadata": {
      "needs_background": "light"
     },
     "output_type": "display_data"
    }
   ],
   "source": [
    "# LOGISITC REGRESSION WITH PCA\n",
    "\n",
    "from sklearn.linear_model import LogisticRegression\n",
    "algo= LogisticRegression(random_state = 3)\n",
    "\n",
    "algo.fit(X_train_pca , y_train)\n",
    "y_train_pred = algo.predict(X_train_pca)\n",
    "y_train_prob = algo.predict_proba(X_train_pca)\n",
    "\n",
    "#overall acc of train model\n",
    "from sklearn.metrics import confusion_matrix, accuracy_score, roc_auc_score,roc_curve\n",
    "from sklearn.model_selection import cross_val_score\n",
    "\n",
    "print('Confusion matrix - Train :', '\\n',confusion_matrix(y_train , y_train_pred))\n",
    "print('Overall Accuracy - Train :',accuracy_score(y_train , y_train_pred))\n",
    "print('AUC - Train:', roc_auc_score(y_train , y_train_prob[:,1]))\n",
    "\n",
    "y_test_pred = algo.predict(X_test_pca)\n",
    "y_test_prob = algo.predict_proba(X_test_pca)[:,1]\n",
    "\n",
    "print('*'*50)\n",
    "print('Confusion matrix - Test :', '\\n',confusion_matrix(y_test , y_test_pred))\n",
    "print('Overall Accuracy - Test :',accuracy_score(y_test , y_test_pred))\n",
    "print('AUC - Test:', roc_auc_score(y_test , y_test_prob))\n",
    "\n",
    "print('*'*50)\n",
    "scores=cross_val_score(algo,X,y,cv=3,scoring='roc_auc')\n",
    "print('Cross Val Scores')\n",
    "print(scores)\n",
    "print('Bias Error    :',100-scores.mean()*100)\n",
    "print('Variance Error:',scores.std()*100)\n",
    "\n",
    "\n",
    "fpr , tpr , threshold = roc_curve(y_test , y_test_prob)\n",
    "plt.plot(fpr , tpr)\n",
    "plt.plot(fpr , fpr , 'r-')\n",
    "plt.xlabel('FPR')\n",
    "plt.ylabel('TPR')"
   ]
  },
  {
   "cell_type": "code",
   "execution_count": 72,
   "id": "2a3f6432",
   "metadata": {},
   "outputs": [],
   "source": [
    "from sklearn.metrics import confusion_matrix , accuracy_score , roc_auc_score , roc_curve\n",
    "from sklearn.dummy import DummyClassifier\n",
    "from sklearn.linear_model import LogisticRegression\n",
    "from sklearn.naive_bayes import GaussianNB,BernoulliNB,MultinomialNB\n",
    "from sklearn.tree import DecisionTreeClassifier\n",
    "from sklearn.neighbors import KNeighborsClassifier\n",
    "from sklearn.ensemble import RandomForestClassifier, BaggingClassifier\n",
    "from sklearn.svm import SVC\n",
    "from sklearn.model_selection import cross_val_score,KFold"
   ]
  },
  {
   "cell_type": "code",
   "execution_count": 73,
   "id": "08a38708",
   "metadata": {},
   "outputs": [],
   "source": [
    "lr = LogisticRegression(fit_intercept=True)\n",
    "bagged_lr = BaggingClassifier(base_estimator = lr, n_estimators = 25, random_state = 3)\n",
    "gnb= GaussianNB()\n",
    "bnb= BernoulliNB()\n",
    "mnb= MultinomialNB()\n",
    "knn = KNeighborsClassifier()\n",
    "dtc = DecisionTreeClassifier(ccp_alpha=0.01) # to increase pruning and avoid overfitting\n",
    "rfc= RandomForestClassifier()\n",
    "svm= SVC(probability=True)"
   ]
  },
  {
   "cell_type": "code",
   "execution_count": 74,
   "id": "d908cedb",
   "metadata": {},
   "outputs": [
    {
     "data": {
      "text/plain": [
       "DummyClassifier(strategy='stratified')"
      ]
     },
     "execution_count": 74,
     "metadata": {},
     "output_type": "execute_result"
    }
   ],
   "source": [
    "clf=DummyClassifier(strategy='stratified')\n",
    "clf.fit(X_train,y_train)"
   ]
  },
  {
   "cell_type": "code",
   "execution_count": 75,
   "id": "07efe4c3",
   "metadata": {},
   "outputs": [
    {
     "data": {
      "text/plain": [
       "array([1, 1, 1, 0, 0, 0, 0, 0, 0, 0, 0, 0, 0, 0, 0, 0, 0, 0, 0, 0, 1, 0,\n",
       "       0, 0, 0, 0, 1, 0, 0, 0, 0, 0, 0, 0, 0, 0, 0, 0, 1, 0, 0, 1, 0, 0,\n",
       "       0, 1, 0, 0, 0, 0, 1, 0, 0, 0, 0, 0, 1, 0, 0, 0, 0, 0, 0, 0, 0, 1,\n",
       "       0, 0, 0, 1, 0, 1, 0, 1, 0, 0, 0, 0, 1, 0, 0, 0, 0, 1, 0, 0, 0, 0,\n",
       "       1, 0, 0, 0, 0, 0, 0, 0, 0, 0, 1, 0, 0, 1, 0, 0, 0, 0, 0, 0, 0, 0,\n",
       "       0, 0, 0, 0, 0, 0, 1, 1, 0, 0, 0, 0, 0, 0, 0, 1, 0, 1, 0, 0, 0, 0,\n",
       "       0, 0, 0, 1, 0, 1, 0, 0, 0, 0, 0, 0, 0, 1, 0, 0, 0, 0, 1, 0, 0, 0,\n",
       "       0, 0, 0, 0, 0, 0, 0, 0, 0, 0, 0, 0, 0, 0, 0, 0, 0, 0, 0, 1, 0, 0,\n",
       "       0, 0, 1, 1, 0, 1, 0, 0, 0, 0, 0, 0, 0, 0, 0, 1, 0, 0, 0, 0, 0, 1,\n",
       "       0, 0, 0, 1, 0, 0, 0, 0, 0, 0, 0, 0, 0, 0, 0, 0, 0, 0, 1, 1, 0, 1,\n",
       "       0, 1, 0, 0, 1, 0, 0, 1, 0, 0, 0, 0, 0, 1, 1, 0, 1, 0, 0, 0, 0, 0,\n",
       "       0, 0, 0, 0, 0, 0, 0, 0, 0, 0, 0, 0, 0, 0, 0, 0, 0, 0, 0, 0, 0, 0,\n",
       "       0, 0, 0, 0, 0, 0, 0, 0, 0, 0, 0, 1, 0, 1, 0, 0, 0, 1, 0, 0, 0, 1,\n",
       "       0, 1, 0, 0, 1, 0, 0, 0, 0, 0, 0, 1, 0, 0, 0, 0, 0, 0, 0, 0, 0, 0,\n",
       "       0, 1, 0, 0, 0, 1, 1, 0, 0, 0, 0, 0, 0, 0, 0, 0, 0, 1, 0, 0, 1, 0,\n",
       "       0, 1, 0, 0, 0, 0, 0, 0, 0, 0, 1, 0, 0, 0, 0, 0, 0, 0, 1, 0, 0, 0,\n",
       "       0, 1, 0, 0, 0, 0, 1, 0, 0, 0, 0, 0, 1, 0, 0, 0, 0, 0, 0, 1, 0, 0,\n",
       "       1, 1, 0, 0, 0, 0, 1, 1, 0, 1, 0, 0, 0, 0, 0, 0, 0, 0, 0, 0, 0, 0,\n",
       "       0, 0, 0, 0, 0, 0, 1, 0, 0, 1, 0, 0, 0, 0, 0, 1, 0, 1, 0, 0, 0, 0,\n",
       "       0, 0, 0, 0, 0, 0, 0, 0, 0, 0, 0, 0, 0, 0, 0, 0, 0, 1, 1, 0, 0, 0,\n",
       "       0])"
      ]
     },
     "execution_count": 75,
     "metadata": {},
     "output_type": "execute_result"
    }
   ],
   "source": [
    "clf.predict(X_test)"
   ]
  },
  {
   "cell_type": "code",
   "execution_count": 76,
   "id": "2ddd125b",
   "metadata": {},
   "outputs": [
    {
     "name": "stdout",
     "output_type": "stream",
     "text": [
      "Base Score on Train Data Set:  0.7220602526724975\n",
      "Base Score on Test Data Set :  0.7369614512471655\n"
     ]
    }
   ],
   "source": [
    "print('Base Score on Train Data Set: ',clf.score(X_train,y_train)) \n",
    "print('Base Score on Test Data Set : ',clf.score(X_test,y_test))\n",
    "\n",
    "#now we know that our Supervised Learning Models have to perform better than the above mentioned score"
   ]
  },
  {
   "cell_type": "code",
   "execution_count": 77,
   "id": "8c478535",
   "metadata": {},
   "outputs": [],
   "source": [
    "from sklearn.metrics import classification_report"
   ]
  },
  {
   "cell_type": "code",
   "execution_count": 80,
   "id": "e4db8f82",
   "metadata": {},
   "outputs": [],
   "source": [
    "def model_eval(algo , X_train , y_train , X_test , y_test):\n",
    "\n",
    "    algo.fit(X_train , y_train)\n",
    "    y_pred = algo.predict(X_train)\n",
    "\n",
    "    y_train_pred = algo.predict(X_train)               # Finding the positives and negatives \n",
    "    y_train_prob = algo.predict_proba(X_train)[:,1]    #we are intersted only in the second column\n",
    "\n",
    "\n",
    "    #overall acc of train model\n",
    "    print('Confusion matrix - Train :', '\\n',confusion_matrix(y_train , y_train_pred))\n",
    "    print('Overall Accuracy - Train :',accuracy_score(y_train , y_train_pred))\n",
    "    print('AUC - Train:', roc_auc_score(y_train , y_train_prob))\n",
    "\n",
    "    y_test_pred = algo.predict(X_test)\n",
    "    y_test_prob = algo.predict_proba(X_test)[:,1]\n",
    "    print('*'*50)\n",
    "    print('Confusion matrix - Test :', '\\n',confusion_matrix(y_test , y_test_pred))\n",
    "    print('Overall Accuracy - Test :',accuracy_score(y_test , y_test_pred))\n",
    "    print('AUC - Test:', roc_auc_score(y_test , y_test_prob))\n",
    "    \n",
    "    print('*'*50)\n",
    "    scores=cross_val_score(algo,X,y,cv=3,scoring='roc_auc')\n",
    "    print('Cross Val Scores')\n",
    "    print(scores)\n",
    "    print('Bias Error    :',100-scores.mean()*100)\n",
    "    print('Variance Error:',scores.std()*100)\n",
    "    \n",
    "    print('\\n')\n",
    "    print('Classification Report:\\n', classification_report(y_test, y_test_pred))\n",
    "    fpr , tpr , threshold = roc_curve(y_test , y_test_prob)\n",
    "    plt.plot(fpr , tpr)\n",
    "    plt.plot(fpr , fpr , 'r-')\n",
    "    plt.xlabel('FPR')\n",
    "    plt.ylabel('TPR')"
   ]
  },
  {
   "cell_type": "code",
   "execution_count": 81,
   "id": "a9bb5b42",
   "metadata": {},
   "outputs": [
    {
     "name": "stdout",
     "output_type": "stream",
     "text": [
      "Confusion matrix - Train : \n",
      " [[863   0]\n",
      " [153  13]]\n",
      "Overall Accuracy - Train : 0.8513119533527697\n",
      "AUC - Train: 0.7647810244454062\n",
      "**************************************************\n",
      "Confusion matrix - Test : \n",
      " [[370   0]\n",
      " [ 70   1]]\n",
      "Overall Accuracy - Test : 0.8412698412698413\n",
      "AUC - Test: 0.6612866387514275\n",
      "**************************************************\n",
      "Cross Val Scores\n",
      "[0.79500447 0.70445656 0.74009055]\n",
      "Bias Error    : 25.348280924368893\n",
      "Variance Error: 3.7244303187407626\n",
      "\n",
      "\n",
      "Classification Report:\n",
      "               precision    recall  f1-score   support\n",
      "\n",
      "           0       0.84      1.00      0.91       370\n",
      "           1       1.00      0.01      0.03        71\n",
      "\n",
      "    accuracy                           0.84       441\n",
      "   macro avg       0.92      0.51      0.47       441\n",
      "weighted avg       0.87      0.84      0.77       441\n",
      "\n"
     ]
    },
    {
     "data": {
      "image/png": "[encoded data removed]",
      "text/plain": [
       "<Figure size 432x288 with 1 Axes>"
      ]
     },
     "metadata": {
      "needs_background": "light"
     },
     "output_type": "display_data"
    }
   ],
   "source": [
    "model_eval(bagged_lr , X_train , y_train , X_test , y_test)"
   ]
  },
  {
   "cell_type": "code",
   "execution_count": 82,
   "id": "0328fe71",
   "metadata": {},
   "outputs": [],
   "source": [
    "from sklearn.ensemble import BaggingClassifier\n",
    "from sklearn.ensemble import AdaBoostClassifier,GradientBoostingClassifier\n",
    "from sklearn.model_selection import KFold\n",
    "from sklearn import metrics\n",
    "from sklearn.model_selection import cross_val_score, cross_val_predict"
   ]
  },
  {
   "cell_type": "code",
   "execution_count": 83,
   "id": "d0f3a314",
   "metadata": {},
   "outputs": [
    {
     "name": "stdout",
     "output_type": "stream",
     "text": [
      "Bagged_Logisitc_Regression: 0.739659 (0.000425)\n",
      "Ada_Boost_Logistic_Regression: 0.758873 (0.000350)\n",
      "Gradient_Boost: 0.819811 (0.003891)\n"
     ]
    },
    {
     "data": {
      "image/png": "[encoded data removed]",
      "text/plain": [
       "<Figure size 1080x576 with 1 Axes>"
      ]
     },
     "metadata": {
      "needs_background": "light"
     },
     "output_type": "display_data"
    }
   ],
   "source": [
    "bagged_lr=BaggingClassifier(base_estimator=lr,n_estimators=15,random_state=3)\n",
    "adaboost_lr=AdaBoostClassifier(base_estimator=lr,n_estimators=50,random_state=3)   #default decision tree\n",
    "gb=GradientBoostingClassifier(n_estimators=55,random_state=3)                   # Cannot have base_estimator\n",
    "\n",
    "models=[]\n",
    "models.append(('Bagged_Logisitc_Regression',bagged_lr))\n",
    "models.append(('Ada_Boost_Logistic_Regression',adaboost_lr))\n",
    "models.append(('Gradient_Boost',gb))\n",
    "\n",
    "\n",
    "\n",
    "results=[]\n",
    "names=[]\n",
    "for name,model in models:\n",
    "    kfold=KFold(n_splits=5,shuffle=True,random_state=0)\n",
    "    cv_result=cross_val_score(model,X_train,y_train,cv=kfold,scoring='roc_auc')\n",
    "    results.append(cv_result)\n",
    "    names.append(name)\n",
    "    print(\"%s: %f (%f)\" % (name,np.mean(cv_result),np.var(cv_result,ddof=1)))\n",
    "fig=plt.figure(figsize=(15,8))\n",
    "fig.suptitle(\"Algorithm comparision\")\n",
    "ax=fig.add_subplot(111)\n",
    "plt.boxplot(results)\n",
    "ax.set_xticklabels(names,fontsize=8)\n",
    "plt.show()"
   ]
  },
  {
   "cell_type": "code",
   "execution_count": 84,
   "id": "9ecc9e0b",
   "metadata": {},
   "outputs": [
    {
     "name": "stdout",
     "output_type": "stream",
     "text": [
      "Confusion matrix - Train : \n",
      " [[854   9]\n",
      " [138  28]]\n",
      "Overall Accuracy - Train : 0.8571428571428571\n",
      "AUC - Train: 0.8365885325775873\n",
      "**************************************************\n",
      "Confusion matrix - Test : \n",
      " [[356  14]\n",
      " [ 67   4]]\n",
      "Overall Accuracy - Test : 0.8163265306122449\n",
      "AUC - Test: 0.5586220022839741\n",
      "**************************************************\n",
      "Cross Val Scores\n",
      "[0.52018849 0.58686747 0.57476362]\n",
      "Bias Error    : 43.939347274836514\n",
      "Variance Error: 2.9003899370090633\n",
      "\n",
      "\n",
      "Classification Report:\n",
      "               precision    recall  f1-score   support\n",
      "\n",
      "           0       0.84      0.96      0.90       370\n",
      "           1       0.22      0.06      0.09        71\n",
      "\n",
      "    accuracy                           0.82       441\n",
      "   macro avg       0.53      0.51      0.49       441\n",
      "weighted avg       0.74      0.82      0.77       441\n",
      "\n"
     ]
    },
    {
     "data": {
      "image/png": "[encoded data removed]",
      "text/plain": [
       "<Figure size 432x288 with 1 Axes>"
      ]
     },
     "metadata": {
      "needs_background": "light"
     },
     "output_type": "display_data"
    }
   ],
   "source": [
    "#knn\n",
    "model_eval(knn , X_train , y_train , X_test , y_test)"
   ]
  },
  {
   "cell_type": "code",
   "execution_count": 85,
   "id": "f588b466",
   "metadata": {},
   "outputs": [
    {
     "name": "stdout",
     "output_type": "stream",
     "text": [
      "Bagged_KNN: 0.510921 (0.001639)\n",
      "Ada_Boost: 0.816371 (0.001445)\n"
     ]
    },
    {
     "data": {
      "image/png": "[encoded data removed]",
      "text/plain": [
       "<Figure size 1080x576 with 1 Axes>"
      ]
     },
     "metadata": {
      "needs_background": "light"
     },
     "output_type": "display_data"
    }
   ],
   "source": [
    "bagged_knn=BaggingClassifier(base_estimator=knn,n_estimators=15,random_state=3) # default DT, cannot use RandomForest\n",
    "adaboost=AdaBoostClassifier(n_estimators=50,random_state=3)                    # default decision tree, cannot use KNN\n",
    "\n",
    "\n",
    "models=[]\n",
    "models.append(('Bagged_KNN',bagged_knn))\n",
    "models.append(('Ada_Boost',adaboost))\n",
    "\n",
    "\n",
    "\n",
    "\n",
    "results=[]\n",
    "names=[]\n",
    "for name,model in models:\n",
    "    kfold=KFold(n_splits=5,shuffle=True,random_state=0)\n",
    "    cv_result=cross_val_score(model,X_train,y_train,cv=kfold,scoring='roc_auc')\n",
    "    results.append(cv_result)\n",
    "    names.append(name)\n",
    "    print(\"%s: %f (%f)\" % (name,np.mean(cv_result),np.var(cv_result,ddof=1)))\n",
    "fig=plt.figure(figsize=(15,8))\n",
    "fig.suptitle(\"Algorithm comparision\")\n",
    "ax=fig.add_subplot(111)\n",
    "plt.boxplot(results)\n",
    "ax.set_xticklabels(names,fontsize=8)\n",
    "plt.show()"
   ]
  },
  {
   "cell_type": "code",
   "execution_count": 86,
   "id": "4bfe02ae",
   "metadata": {},
   "outputs": [
    {
     "name": "stdout",
     "output_type": "stream",
     "text": [
      "Confusion matrix - Train : \n",
      " [[723 140]\n",
      " [ 58 108]]\n",
      "Overall Accuracy - Train : 0.8075801749271136\n",
      "AUC - Train: 0.8070195032738137\n",
      "**************************************************\n",
      "Confusion matrix - Test : \n",
      " [[293  77]\n",
      " [ 32  39]]\n",
      "Overall Accuracy - Test : 0.7528344671201814\n",
      "AUC - Test: 0.7138941758660069\n",
      "**************************************************\n",
      "Cross Val Scores\n",
      "[0.81431519 0.73707228 0.75967846]\n",
      "Bias Error    : 22.964468672682656\n",
      "Variance Error: 3.2425433323529167\n",
      "\n",
      "\n",
      "Classification Report:\n",
      "               precision    recall  f1-score   support\n",
      "\n",
      "           0       0.90      0.79      0.84       370\n",
      "           1       0.34      0.55      0.42        71\n",
      "\n",
      "    accuracy                           0.75       441\n",
      "   macro avg       0.62      0.67      0.63       441\n",
      "weighted avg       0.81      0.75      0.77       441\n",
      "\n"
     ]
    },
    {
     "data": {
      "image/png": "[encoded data removed]",
      "text/plain": [
       "<Figure size 432x288 with 1 Axes>"
      ]
     },
     "metadata": {
      "needs_background": "light"
     },
     "output_type": "display_data"
    }
   ],
   "source": [
    "model_eval(gnb , X_train , y_train , X_test , y_test)"
   ]
  },
  {
   "cell_type": "code",
   "execution_count": 88,
   "id": "3367c4b8",
   "metadata": {},
   "outputs": [
    {
     "name": "stdout",
     "output_type": "stream",
     "text": [
      "Naive_Bayes_Gaussian: 0.787508 (0.001925)\n",
      "Naive_Bayes_Bernoulli: 0.777050 (0.004054)\n",
      "Gaussian_bagged: 0.786920 (0.001849)\n",
      "Bernoulli_bagged: 0.773131 (0.003602)\n",
      "Adaboost_Gaussian: 0.618639 (0.003381)\n",
      "Adaboost_Bernoulli: 0.792989 (0.003590)\n"
     ]
    },
    {
     "data": {
      "image/png": "[encoded data removed]",
      "text/plain": [
       "<Figure size 1080x576 with 1 Axes>"
      ]
     },
     "metadata": {
      "needs_background": "light"
     },
     "output_type": "display_data"
    }
   ],
   "source": [
    "gnb= GaussianNB()\n",
    "bnb= BernoulliNB()\n",
    "\n",
    "gaussian_bag=BaggingClassifier(base_estimator=gnb,n_estimators=10,random_state=3)\n",
    "gaussian_adaboost=AdaBoostClassifier(base_estimator=gnb,n_estimators=30,random_state=3)\n",
    "bernoulli_bag=BaggingClassifier(base_estimator=bnb,n_estimators=10,random_state=3)\n",
    "bernoulli_adaboost=AdaBoostClassifier(base_estimator=bnb,n_estimators=30,random_state=3)\n",
    "\n",
    "\n",
    "\n",
    "models=[]\n",
    "models.append(('Naive_Bayes_Gaussian',gnb))\n",
    "models.append(('Naive_Bayes_Bernoulli',bnb))\n",
    "models.append(('Gaussian_bagged',gaussian_bag))\n",
    "models.append(('Bernoulli_bagged',bernoulli_bag))\n",
    "models.append(('Adaboost_Gaussian',gaussian_adaboost))\n",
    "models.append(('Adaboost_Bernoulli',bernoulli_adaboost))\n",
    "\n",
    "results=[]\n",
    "names=[]\n",
    "for name,model in models:\n",
    "    kfold=KFold(n_splits=5,shuffle=True,random_state=0)\n",
    "    cv_result=cross_val_score(model,X_train,y_train,cv=kfold,scoring='roc_auc')\n",
    "    results.append(cv_result)\n",
    "    names.append(name)\n",
    "    print(\"%s: %f (%f)\" % (name,np.mean(cv_result),np.var(cv_result,ddof=1)))\n",
    "fig=plt.figure(figsize=(15,8))\n",
    "fig.suptitle(\"Algorithm comparision\")\n",
    "ax=fig.add_subplot(111)\n",
    "plt.boxplot(results)\n",
    "ax.set_xticklabels(names,fontsize=8)\n",
    "plt.show()\n"
   ]
  },
  {
   "cell_type": "code",
   "execution_count": 89,
   "id": "06f6d649",
   "metadata": {},
   "outputs": [
    {
     "name": "stdout",
     "output_type": "stream",
     "text": [
      "Confusion matrix - Train : \n",
      " [[820  43]\n",
      " [109  57]]\n",
      "Overall Accuracy - Train : 0.8522837706511176\n",
      "AUC - Train: 0.7197783020843513\n",
      "**************************************************\n",
      "Confusion matrix - Test : \n",
      " [[348  22]\n",
      " [ 51  20]]\n",
      "Overall Accuracy - Test : 0.8344671201814059\n",
      "AUC - Test: 0.6899885801294252\n",
      "**************************************************\n",
      "Cross Val Scores\n",
      "[0.58774523 0.68617758 0.65020481]\n",
      "Bias Error    : 35.86241235229501\n",
      "Variance Error: 4.066689467731561\n",
      "\n",
      "\n",
      "Classification Report:\n",
      "               precision    recall  f1-score   support\n",
      "\n",
      "           0       0.87      0.94      0.91       370\n",
      "           1       0.48      0.28      0.35        71\n",
      "\n",
      "    accuracy                           0.83       441\n",
      "   macro avg       0.67      0.61      0.63       441\n",
      "weighted avg       0.81      0.83      0.82       441\n",
      "\n"
     ]
    },
    {
     "data": {
      "image/png": "[encoded data removed]",
      "text/plain": [
       "<Figure size 432x288 with 1 Axes>"
      ]
     },
     "metadata": {
      "needs_background": "light"
     },
     "output_type": "display_data"
    }
   ],
   "source": [
    "model_eval(dtc , X_train , y_train , X_test , y_test)"
   ]
  },
  {
   "cell_type": "code",
   "execution_count": 90,
   "id": "45a95fd4",
   "metadata": {},
   "outputs": [
    {
     "name": "stdout",
     "output_type": "stream",
     "text": [
      "Bagged_DTC: 0.756921 (0.003527)\n",
      "Adaboost_DTC: 0.816371 (0.001445)\n"
     ]
    },
    {
     "data": {
      "image/png": "[encoded data removed]",
      "text/plain": [
       "<Figure size 1080x576 with 1 Axes>"
      ]
     },
     "metadata": {
      "needs_background": "light"
     },
     "output_type": "display_data"
    }
   ],
   "source": [
    "bagged_dtc=BaggingClassifier(n_estimators=15,random_state=3)       # default decision tree, cannot use RandomF \n",
    "adaboost_dtc=AdaBoostClassifier(n_estimators=50,random_state=3)       # default decision tree, cannot use KNN\n",
    "\n",
    "\n",
    "models=[]\n",
    "models.append(('Bagged_DTC',bagged_dtc))\n",
    "models.append(('Adaboost_DTC',adaboost_dtc))\n",
    "\n",
    "\n",
    "\n",
    "\n",
    "results=[]\n",
    "names=[]\n",
    "for name,model in models:\n",
    "    kfold=KFold(n_splits=5,shuffle=True,random_state=0)\n",
    "    cv_result=cross_val_score(model,X_train,y_train,cv=kfold,scoring='roc_auc')\n",
    "    results.append(cv_result)\n",
    "    names.append(name)\n",
    "    print(\"%s: %f (%f)\" % (name,np.mean(cv_result),np.var(cv_result,ddof=1)))\n",
    "fig=plt.figure(figsize=(15,8))\n",
    "fig.suptitle(\"Algorithm comparision\")\n",
    "ax=fig.add_subplot(111)\n",
    "plt.boxplot(results)\n",
    "ax.set_xticklabels(names,fontsize=8)\n",
    "plt.show()"
   ]
  },
  {
   "cell_type": "code",
   "execution_count": 91,
   "id": "05ab7710",
   "metadata": {},
   "outputs": [
    {
     "name": "stdout",
     "output_type": "stream",
     "text": [
      "Confusion matrix - Train : \n",
      " [[863   0]\n",
      " [  0 166]]\n",
      "Overall Accuracy - Train : 1.0\n",
      "AUC - Train: 1.0\n",
      "**************************************************\n",
      "Confusion matrix - Test : \n",
      " [[367   3]\n",
      " [ 62   9]]\n",
      "Overall Accuracy - Test : 0.8526077097505669\n",
      "AUC - Test: 0.7846402740768937\n",
      "**************************************************\n",
      "Cross Val Scores\n",
      "[0.79357233 0.80184176 0.80676953]\n",
      "Bias Error    : 19.92721262332276\n",
      "Variance Error: 0.5445003608505468\n",
      "\n",
      "\n",
      "Classification Report:\n",
      "               precision    recall  f1-score   support\n",
      "\n",
      "           0       0.86      0.99      0.92       370\n",
      "           1       0.75      0.13      0.22        71\n",
      "\n",
      "    accuracy                           0.85       441\n",
      "   macro avg       0.80      0.56      0.57       441\n",
      "weighted avg       0.84      0.85      0.81       441\n",
      "\n"
     ]
    },
    {
     "data": {
      "image/png": "[encoded data removed]",
      "text/plain": [
       "<Figure size 432x288 with 1 Axes>"
      ]
     },
     "metadata": {
      "needs_background": "light"
     },
     "output_type": "display_data"
    }
   ],
   "source": [
    "model_eval(rfc , X_train , y_train , X_test , y_test)"
   ]
  },
  {
   "cell_type": "code",
   "execution_count": 92,
   "id": "d4fa991b",
   "metadata": {},
   "outputs": [
    {
     "name": "stdout",
     "output_type": "stream",
     "text": [
      "Bagged_RFC: 0.804582 (0.001443)\n",
      "Adaboost_RFC: 0.802823 (0.001783)\n"
     ]
    },
    {
     "data": {
      "image/png": "[encoded data removed]",
      "text/plain": [
       "<Figure size 1080x576 with 1 Axes>"
      ]
     },
     "metadata": {
      "needs_background": "light"
     },
     "output_type": "display_data"
    }
   ],
   "source": [
    "bagged_rfc=BaggingClassifier(base_estimator=rfc,n_estimators=15,random_state=3)       # default decision tree, cannot use RandomF \n",
    "adaboost_rfc=AdaBoostClassifier(base_estimator=rfc,n_estimators=50,random_state=3)   # default decision tree, cannot use KNN\n",
    "             \n",
    "\n",
    "models=[]\n",
    "models.append(('Bagged_RFC',bagged_rfc))\n",
    "models.append(('Adaboost_RFC',adaboost_rfc))\n",
    "\n",
    "\n",
    "\n",
    "\n",
    "results=[]\n",
    "names=[]\n",
    "for name,model in models:\n",
    "    kfold=KFold(n_splits=5,shuffle=True,random_state=0)\n",
    "    cv_result=cross_val_score(model,X_train,y_train,cv=kfold,scoring='roc_auc')\n",
    "    results.append(cv_result)\n",
    "    names.append(name)\n",
    "    print(\"%s: %f (%f)\" % (name,np.mean(cv_result),np.var(cv_result,ddof=1)))\n",
    "fig=plt.figure(figsize=(15,8))\n",
    "fig.suptitle(\"Algorithm comparision\")\n",
    "ax=fig.add_subplot(111)\n",
    "plt.boxplot(results)\n",
    "ax.set_xticklabels(names,fontsize=8)\n",
    "plt.show()"
   ]
  },
  {
   "cell_type": "code",
   "execution_count": 93,
   "id": "a02b12d9",
   "metadata": {},
   "outputs": [
    {
     "data": {
      "text/plain": [
       "RandomizedSearchCV(cv=3, estimator=RandomForestClassifier(random_state=3),\n",
       "                   n_iter=200, n_jobs=-1,\n",
       "                   param_distributions={'criterion': ['gini', 'entropy'],\n",
       "                                        'max_depth': <scipy.stats._distn_infrastructure.rv_frozen object at 0x7f80b3a47550>,\n",
       "                                        'max_features': <scipy.stats._distn_infrastructure.rv_frozen object at 0x7f80b3d921c0>,\n",
       "                                        'min_samples_leaf': <scipy.stats._distn_infrastructure.rv_frozen object at 0x7f80b4030340>,\n",
       "                                        'min_samples_split': <scipy.stats._distn_infrastructure.rv_frozen object at 0x7f80b3e4fc10>,\n",
       "                                        'n_estimators': <scipy.stats._distn_infrastructure.rv_frozen object at 0x7f80b3e4f640>},\n",
       "                   random_state=3, return_train_score=True, scoring='roc_auc')"
      ]
     },
     "execution_count": 93,
     "metadata": {},
     "output_type": "execute_result"
    }
   ],
   "source": [
    "#Using Randomised Search Cross Validation to Search for the best parameters\n",
    "\n",
    "from scipy.stats import randint as sp_randint\n",
    "from sklearn.ensemble import RandomForestClassifier\n",
    "from sklearn.model_selection import RandomizedSearchCV\n",
    "\n",
    "rfc = RandomForestClassifier(random_state=3)\n",
    "params = { 'n_estimators' : sp_randint(50 , 200) , \n",
    "           'max_features' : sp_randint(1,26) ,\n",
    "           'max_depth' : sp_randint(2,10) , \n",
    "           'min_samples_split' : sp_randint(2,10) ,\n",
    "           'min_samples_leaf' : sp_randint(1,10) ,\n",
    "           'criterion' : ['gini' , 'entropy']\n",
    "    \n",
    "}\n",
    "\n",
    "rsearch_rfc = RandomizedSearchCV(rfc , param_distributions= params , n_iter= 200 , cv = 3 , scoring='roc_auc' , random_state= 3 , return_train_score=True , n_jobs=-1)\n",
    "\n",
    "rsearch_rfc.fit(X,y)"
   ]
  },
  {
   "cell_type": "code",
   "execution_count": 94,
   "id": "915de071",
   "metadata": {},
   "outputs": [
    {
     "data": {
      "text/plain": [
       "{'criterion': 'entropy',\n",
       " 'max_depth': 8,\n",
       " 'max_features': 14,\n",
       " 'min_samples_leaf': 5,\n",
       " 'min_samples_split': 2,\n",
       " 'n_estimators': 140}"
      ]
     },
     "execution_count": 94,
     "metadata": {},
     "output_type": "execute_result"
    }
   ],
   "source": [
    "rsearch_rfc.best_params_"
   ]
  },
  {
   "cell_type": "code",
   "execution_count": 95,
   "id": "ecc102be",
   "metadata": {},
   "outputs": [
    {
     "name": "stdout",
     "output_type": "stream",
     "text": [
      "Confusion Matrix - Train: \n",
      " [[863   0]\n",
      " [ 81  85]]\n",
      "Overall Accuracy - Train: 0.9212827988338192\n",
      "AUC- Train 0.9916933085761354\n",
      "\n",
      "\n",
      "Confusion Matrix - Test: \n",
      " [[363   7]\n",
      " [ 63   8]]\n",
      "Overall Accuracy - Test: 0.8412698412698413\n",
      "AUC- Test 0.771145793681005\n",
      "\n",
      "\n"
     ]
    },
    {
     "data": {
      "text/plain": [
       "Text(0, 0.5, 'TPR')"
      ]
     },
     "execution_count": 95,
     "metadata": {},
     "output_type": "execute_result"
    },
    {
     "data": {
      "image/png": "[encoded data removed]",
      "text/plain": [
       "<Figure size 432x288 with 1 Axes>"
      ]
     },
     "metadata": {
      "needs_background": "light"
     },
     "output_type": "display_data"
    }
   ],
   "source": [
    "rfc= RandomForestClassifier(**rsearch_rfc.best_params_,random_state=3)\n",
    "\n",
    "rfc.fit(X_train,y_train)\n",
    "\n",
    "y_train_pred=rfc.predict(X_train)                 # Finding the Positives and Negatives \n",
    "y_train_prob=rfc.predict_proba(X_train)[:,1]      # We are interested only in the 2nd column\n",
    "\n",
    "\n",
    "\n",
    "print('Confusion Matrix - Train:','\\n' ,confusion_matrix(y_train,y_train_pred))\n",
    "print('Overall Accuracy - Train:', accuracy_score(y_train,y_train_pred))             #Train\n",
    "print('AUC- Train',roc_auc_score(y_train,y_train_prob))\n",
    "\n",
    "y_test_pred=rfc.predict(X_test)\n",
    "y_test_prob=rfc.predict_proba(X_test)[:,1]\n",
    "\n",
    "\n",
    "print('\\n')\n",
    "print('Confusion Matrix - Test:','\\n' ,confusion_matrix(y_test,y_test_pred))\n",
    "print('Overall Accuracy - Test:', accuracy_score(y_test,y_test_pred))               #Test\n",
    "print('AUC- Test',roc_auc_score(y_test,y_test_prob))\n",
    "\n",
    "print('\\n')\n",
    "fpr,tpr,thresholds= roc_curve(y_test,y_test_prob)\n",
    "plt.plot(fpr,tpr)\n",
    "plt.plot(fpr,fpr,'r-')\n",
    "plt.xlabel('FPR')\n",
    "plt.ylabel('TPR')"
   ]
  },
  {
   "cell_type": "code",
   "execution_count": 96,
   "id": "6409458f",
   "metadata": {},
   "outputs": [
    {
     "data": {
      "text/html": [
       "<div>\n",
       "<style scoped>\n",
       "    .dataframe tbody tr th:only-of-type {\n",
       "        vertical-align: middle;\n",
       "    }\n",
       "\n",
       "    .dataframe tbody tr th {\n",
       "        vertical-align: top;\n",
       "    }\n",
       "\n",
       "    .dataframe thead th {\n",
       "        text-align: right;\n",
       "    }\n",
       "</style>\n",
       "<table border=\"1\" class=\"dataframe\">\n",
       "  <thead>\n",
       "    <tr style=\"text-align: right;\">\n",
       "      <th></th>\n",
       "      <th>cols</th>\n",
       "      <th>imps</th>\n",
       "    </tr>\n",
       "  </thead>\n",
       "  <tbody>\n",
       "    <tr>\n",
       "      <th>43</th>\n",
       "      <td>MonthlyIncome</td>\n",
       "      <td>0.083593</td>\n",
       "    </tr>\n",
       "    <tr>\n",
       "      <th>42</th>\n",
       "      <td>OverTime</td>\n",
       "      <td>0.081235</td>\n",
       "    </tr>\n",
       "    <tr>\n",
       "      <th>41</th>\n",
       "      <td>TotalWorkingYears</td>\n",
       "      <td>0.062035</td>\n",
       "    </tr>\n",
       "    <tr>\n",
       "      <th>40</th>\n",
       "      <td>Age</td>\n",
       "      <td>0.060875</td>\n",
       "    </tr>\n",
       "    <tr>\n",
       "      <th>39</th>\n",
       "      <td>DailyRate</td>\n",
       "      <td>0.059179</td>\n",
       "    </tr>\n",
       "    <tr>\n",
       "      <th>38</th>\n",
       "      <td>YearsAtCompany</td>\n",
       "      <td>0.049238</td>\n",
       "    </tr>\n",
       "    <tr>\n",
       "      <th>37</th>\n",
       "      <td>DistanceFromHome</td>\n",
       "      <td>0.046807</td>\n",
       "    </tr>\n",
       "    <tr>\n",
       "      <th>36</th>\n",
       "      <td>HourlyRate</td>\n",
       "      <td>0.046387</td>\n",
       "    </tr>\n",
       "    <tr>\n",
       "      <th>35</th>\n",
       "      <td>MonthlyRate</td>\n",
       "      <td>0.045390</td>\n",
       "    </tr>\n",
       "    <tr>\n",
       "      <th>34</th>\n",
       "      <td>YearsWithCurrManager</td>\n",
       "      <td>0.038709</td>\n",
       "    </tr>\n",
       "  </tbody>\n",
       "</table>\n",
       "</div>"
      ],
      "text/plain": [
       "                    cols      imps\n",
       "43         MonthlyIncome  0.083593\n",
       "42              OverTime  0.081235\n",
       "41     TotalWorkingYears  0.062035\n",
       "40                   Age  0.060875\n",
       "39             DailyRate  0.059179\n",
       "38        YearsAtCompany  0.049238\n",
       "37      DistanceFromHome  0.046807\n",
       "36            HourlyRate  0.046387\n",
       "35           MonthlyRate  0.045390\n",
       "34  YearsWithCurrManager  0.038709"
      ]
     },
     "execution_count": 96,
     "metadata": {},
     "output_type": "execute_result"
    }
   ],
   "source": [
    "col_sorted_by_importance=rfc.feature_importances_.argsort()\n",
    "feat_imp=pd.DataFrame({\n",
    "    'cols':X.columns[col_sorted_by_importance],\n",
    "    'imps':rfc.feature_importances_[col_sorted_by_importance]\n",
    "})\n",
    "\n",
    "feat_imp.sort_values(by='imps',ascending=False)[:10]\n"
   ]
  },
  {
   "cell_type": "code",
   "execution_count": 97,
   "id": "8fde305d",
   "metadata": {},
   "outputs": [
    {
     "name": "stdout",
     "output_type": "stream",
     "text": [
      "Confusion matrix - Train : \n",
      " [[863   0]\n",
      " [166   0]]\n",
      "Overall Accuracy - Train : 0.8386783284742468\n",
      "AUC - Train: 0.48638819472559996\n",
      "**************************************************\n",
      "Confusion matrix - Test : \n",
      " [[370   0]\n",
      " [ 71   0]]\n",
      "Overall Accuracy - Test : 0.8390022675736961\n",
      "AUC - Test: 0.5169014084507042\n",
      "**************************************************\n",
      "Cross Val Scores\n",
      "[0.50826943 0.48914349 0.53561859]\n",
      "Bias Error    : 48.898949767470526\n",
      "Variance Error: 1.9072123426305143\n",
      "\n",
      "\n",
      "Classification Report:\n",
      "               precision    recall  f1-score   support\n",
      "\n",
      "           0       0.84      1.00      0.91       370\n",
      "           1       0.00      0.00      0.00        71\n",
      "\n",
      "    accuracy                           0.84       441\n",
      "   macro avg       0.42      0.50      0.46       441\n",
      "weighted avg       0.70      0.84      0.77       441\n",
      "\n"
     ]
    },
    {
     "data": {
      "image/png": "[encoded data removed]",
      "text/plain": [
       "<Figure size 432x288 with 1 Axes>"
      ]
     },
     "metadata": {
      "needs_background": "light"
     },
     "output_type": "display_data"
    }
   ],
   "source": [
    "#Support vector machines\n",
    "model_eval(svm, X_train , y_train , X_test , y_test)"
   ]
  },
  {
   "cell_type": "code",
   "execution_count": 98,
   "id": "24ebcec4",
   "metadata": {},
   "outputs": [
    {
     "name": "stdout",
     "output_type": "stream",
     "text": [
      "For kernel i, linear\n",
      "accuracy is 0.8390022675736961\n",
      "For kernel i, poly\n",
      "accuracy is 0.8390022675736961\n",
      "For kernel i, rbf\n",
      "accuracy is 0.8390022675736961\n",
      "For kernel i, sigmoid\n",
      "accuracy is 0.8390022675736961\n"
     ]
    }
   ],
   "source": [
    "from sklearn.svm import SVC\n",
    "svm=SVC(probability=True)\n",
    "\n",
    "kernel=['linear','poly','rbf','sigmoid']\n",
    "\n",
    "for i in kernel:\n",
    "    svm=SVC(kernel=i,C=1.0)\n",
    "    svm.fit(X_train,y_train)\n",
    "    print('For kernel i,',i)\n",
    "    print('accuracy is' ,svm.score(X_test,y_test))"
   ]
  },
  {
   "cell_type": "code",
   "execution_count": null,
   "id": "bca13216",
   "metadata": {},
   "outputs": [
    {
     "name": "stdout",
     "output_type": "stream",
     "text": [
      "Fitting 5 folds for each of 225 candidates, totalling 1125 fits\n",
      "[CV 1/5] END C=0.1, coef0=0.001, gamma=1, kernel=rbf;, score=0.160 total time=   0.2s\n",
      "[CV 2/5] END C=0.1, coef0=0.001, gamma=1, kernel=rbf;, score=0.160 total time=   0.2s\n",
      "[CV 3/5] END C=0.1, coef0=0.001, gamma=1, kernel=rbf;, score=0.160 total time=   0.3s\n",
      "[CV 4/5] END C=0.1, coef0=0.001, gamma=1, kernel=rbf;, score=0.835 total time=   0.2s\n",
      "[CV 5/5] END C=0.1, coef0=0.001, gamma=1, kernel=rbf;, score=0.161 total time=   0.2s\n"
     ]
    }
   ],
   "source": [
    "from sklearn.model_selection import GridSearchCV \n",
    "svm=SVC(probability=True,class_weight='balanced',random_state=3)\n",
    "param_grid = {'C': [0.1, 1, 10, 100, 1000],  \n",
    "              'gamma': [1, 0.1, 0.01, 0.001, 0.0001], \n",
    "              'coef0':[0.001,10,0.5],\n",
    "              'kernel': ['rbf','poly', 'sigmoid']}  \n",
    "  \n",
    "grid_search_svm = GridSearchCV(svm, param_grid, refit = True, verbose = 3) \n",
    "  \n",
    "# fitting the model for grid search \n",
    "grid_search_svm.fit(X_train,y_train) "
   ]
  },
  {
   "cell_type": "code",
   "execution_count": null,
   "id": "451cbb9a",
   "metadata": {},
   "outputs": [],
   "source": [
    "# print best parameter after tuning \n",
    "print(grid_search_svm.best_params_) \n",
    "  \n",
    "# print how our model looks after hyper-parameter tuning \n",
    "print(grid_search_svm.best_estimator_) "
   ]
  },
  {
   "cell_type": "code",
   "execution_count": null,
   "id": "9860adb5",
   "metadata": {},
   "outputs": [],
   "source": [
    "svm= SVC(probability=True,**grid_search_svm.best_params_,random_state=3)\n",
    "\n",
    "svm.fit(X_train,y_train)\n",
    "\n",
    "y_train_pred=svm.predict(X_train)                 # Finding the Positives and Negatives \n",
    "y_train_prob=svm.predict_proba(X_train)[:,1]      # We are interested only in the 2nd column\n",
    "\n",
    "\n",
    "\n",
    "print('Confusion Matrix - Train:','\\n' ,confusion_matrix(y_train,y_train_pred))\n",
    "print('Overall Accuracy - Train:', accuracy_score(y_train,y_train_pred))             #Train\n",
    "print('AUC- Train',roc_auc_score(y_train,y_train_prob))\n",
    "\n",
    "y_test_pred=svm.predict(X_test)\n",
    "y_test_prob=svm.predict_proba(X_test)[:,1]\n",
    "\n",
    "\n",
    "print('\\n')\n",
    "print('Confusion Matrix - Test:','\\n' ,confusion_matrix(y_test,y_test_pred))\n",
    "print('Overall Accuracy - Test:', accuracy_score(y_test,y_test_pred))               #Test\n",
    "print('AUC- Test',roc_auc_score(y_test,y_test_prob))\n",
    "\n",
    "print('\\n')\n",
    "fpr,tpr,thresholds= roc_curve(y_test,y_test_prob)\n",
    "plt.plot(fpr,tpr)\n",
    "plt.plot(fpr,fpr,'r-')\n",
    "plt.xlabel('FPR')\n",
    "plt.ylabel('TPR')"
   ]
  },
  {
   "cell_type": "code",
   "execution_count": null,
   "id": "20328ca2",
   "metadata": {},
   "outputs": [],
   "source": [
    "bagged_svm=BaggingClassifier(base_estimator=svm,n_estimators=15,random_state=3)       # default decision tree, cannot use RandomF \n",
    "adaboost_svm=AdaBoostClassifier(base_estimator=svm,n_estimators=15,random_state=3)   # default decision tree, cannot use KNN\n",
    "gb_lr=GradientBoostingClassifier(n_estimators=55,random_state=3)                # Does not have base_estimator, uses DT as stump\n",
    "\n",
    "models=[]\n",
    "models.append(('Bagged_SVM',bagged_svm))\n",
    "models.append(('Adaboost_SVM',adaboost_svm))\n",
    "models.append(('Gradient_Boost',gb_lr))\n",
    "\n",
    "\n",
    "\n",
    "results=[]\n",
    "names=[]\n",
    "for name,model in models:\n",
    "    kfold=KFold(n_splits=5,shuffle=True,random_state=0)\n",
    "    cv_result=cross_val_score(model,X_train,y_train,cv=kfold,scoring='roc_auc')\n",
    "    results.append(cv_result)\n",
    "    names.append(name)\n",
    "    print(\"%s: %f (%f)\" % (name,np.mean(cv_result),np.var(cv_result,ddof=1)))\n",
    "fig=plt.figure(figsize=(15,8))\n",
    "fig.suptitle(\"Algorithm comparision\")\n",
    "ax=fig.add_subplot(111)\n",
    "plt.boxplot(results)\n",
    "ax.set_xticklabels(names,fontsize=8)\n",
    "plt.show()"
   ]
  },
  {
   "cell_type": "code",
   "execution_count": null,
   "id": "ca18f9c9",
   "metadata": {},
   "outputs": [],
   "source": [
    "#XGBoost\n",
    "\n",
    "from sklearn.model_selection import StratifiedKFold\n",
    "from xgboost import XGBClassifier\n",
    "\n",
    "params = {\n",
    "        'min_child_weight': [1,2,3,4,5,6,7,8,9,10],\n",
    "        'gamma': [0.5, 1,1,1.25,1.35,1.45, 1.5,1.75, 2, 5],\n",
    "        'subsample': [0.6,0.7 ,0.8,0.9, 1.0],\n",
    "        'colsample_bytree': [0.6, 0.8, 1.0,1.1,1.2],\n",
    "        'max_depth': [3, 4, 5,6,7]\n",
    "        }\n",
    "\n",
    "xgb = XGBClassifier(learning_rate=0.02, n_estimators=1000, objective='binary:logistic',\n",
    "                    silent=True, nthread=1)\n",
    "\n",
    "folds = 3\n",
    "param_comb = 5\n",
    "\n",
    "skf = StratifiedKFold(n_splits=folds, shuffle = True, random_state = 3)\n",
    "\n",
    "random_search = RandomizedSearchCV(xgb, param_distributions=params, n_iter=param_comb, scoring='accuracy', n_jobs=4, cv=skf.split(X,y), verbose=3, random_state=3 )\n",
    "\n",
    "random_search.fit(X, y)"
   ]
  },
  {
   "cell_type": "code",
   "execution_count": null,
   "id": "837ba092",
   "metadata": {},
   "outputs": [],
   "source": [
    "xgb= XGBClassifier(**random_search.best_params_,random_state=3)\n",
    "\n",
    "xgb.fit(X_train,y_train)\n",
    "\n",
    "y_train_pred=xgb.predict(X_train)                 # Finding the Positives and Negatives \n",
    "y_train_prob=xgb.predict_proba(X_train)[:,1]      # We are interested only in the 2nd column\n",
    "\n",
    "\n",
    "\n",
    "print('Confusion Matrix - Train:','\\n' ,confusion_matrix(y_train,y_train_pred))\n",
    "print('Overall Accuracy - Train:', accuracy_score(y_train,y_train_pred))             #Train\n",
    "print('AUC- Train',roc_auc_score(y_train,y_train_prob))\n",
    "\n",
    "y_test_pred=xgb.predict(X_test)\n",
    "y_test_prob=xgb.predict_proba(X_test)[:,1]\n",
    "\n",
    "\n",
    "print('\\n')\n",
    "print('Confusion Matrix - Test:','\\n' ,confusion_matrix(y_test,y_test_pred))\n",
    "print('Overall Accuracy - Test:', accuracy_score(y_test,y_test_pred))               #Test\n",
    "print('AUC- Test',roc_auc_score(y_test,y_test_prob))\n",
    "print('\\n')\n",
    "fpr,tpr,thresholds= roc_curve(y_test,y_test_prob)\n",
    "plt.plot(fpr,tpr)\n",
    "plt.plot(fpr,fpr,'r-')\n",
    "plt.xlabel('FPR')\n",
    "plt.ylabel('TPR')"
   ]
  },
  {
   "cell_type": "code",
   "execution_count": null,
   "id": "c75629a9",
   "metadata": {},
   "outputs": [],
   "source": [
    "import lightgbm as lgb\n",
    "lgbm = lgb.LGBMClassifier()\n",
    "\n",
    "from sklearn.model_selection import RandomizedSearchCV\n",
    "from scipy.stats import randint as sp_randint\n",
    "from scipy.stats import uniform as sp_uniform\n",
    "\n",
    "params = {\n",
    "    'n_estimators' : sp_randint(50,200) , \n",
    "    'max_depth' : sp_randint(2,15) ,\n",
    "    'learning_rate' : sp_uniform(0.001 , 0.5 ) ,\n",
    "    'num_leaves' : sp_randint(20 , 50) \n",
    "} \n",
    "\n",
    "\n",
    "rsearch = RandomizedSearchCV(lgbm , param_distributions= params , cv = 3 , n_iter= 200 , n_jobs=-1 ,random_state= 3)\n",
    "\n",
    "rsearch.fit(X , y)"
   ]
  },
  {
   "cell_type": "code",
   "execution_count": null,
   "id": "945daea5",
   "metadata": {},
   "outputs": [],
   "source": [
    "rsearch.best_estimator_"
   ]
  },
  {
   "cell_type": "code",
   "execution_count": null,
   "id": "05a8c5a3",
   "metadata": {},
   "outputs": [],
   "source": [
    "lgbm= lgb.LGBMClassifier(**rsearch.best_params_)\n",
    "\n",
    "lgbm.fit(X_train,y_train)\n",
    "\n",
    "y_train_pred=lgbm.predict(X_train)                 # Finding the Positives and Negatives \n",
    "y_train_prob=lgbm.predict_proba(X_train)[:,1]      # We are interested only in the 2nd column\n",
    "\n",
    "print('Confusion Matrix - Train:','\\n' ,confusion_matrix(y_train,y_train_pred))\n",
    "print('Overall Accuracy - Train:', accuracy_score(y_train,y_train_pred))             #Train\n",
    "print('AUC- Train',roc_auc_score(y_train,y_train_prob))\n",
    "\n",
    "y_test_pred=lgbm.predict(X_test)\n",
    "y_test_prob=lgbm.predict_proba(X_test)[:,1]\n",
    "\n",
    "\n",
    "print('\\n')\n",
    "print('Confusion Matrix - Test:','\\n' ,confusion_matrix(y_test,y_test_pred))\n",
    "print('Overall Accuracy - Test:', accuracy_score(y_test,y_test_pred))               #Test\n",
    "print('AUC- Test',roc_auc_score(y_test,y_test_prob))\n",
    "\n",
    "print('\\n')\n",
    "fpr,tpr,thresholds= roc_curve(y_test,y_test_prob)\n",
    "plt.plot(fpr,tpr)\n",
    "plt.plot(fpr,fpr,'r-')\n",
    "plt.xlabel('FPR')\n",
    "plt.ylabel('TPR')"
   ]
  }
 ],
 "metadata": {
  "kernelspec": {
   "display_name": "Python 3.8 (tensorflow)",
   "language": "python",
   "name": "tensorflow"
  },
  "language_info": {
   "codemirror_mode": {
    "name": "ipython",
    "version": 3
   },
   "file_extension": ".py",
   "mimetype": "text/x-python",
   "name": "python",
   "nbconvert_exporter": "python",
   "pygments_lexer": "ipython3",
   "version": "3.8.11"
  }
 },
 "nbformat": 4,
 "nbformat_minor": 5
}
