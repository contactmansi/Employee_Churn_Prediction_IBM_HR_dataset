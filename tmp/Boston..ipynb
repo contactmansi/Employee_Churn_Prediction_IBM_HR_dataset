{
 "cells": [
  {
   "cell_type": "markdown",
   "metadata": {},
   "source": [
    "#### Title\n",
    " - Boston Housing Data\n",
    " \n",
    "#### Sources\n",
    " - Origin : StatLib library (Carnegie Mellon University)  \n",
    "\n",
    "#### Data Size\n",
    " - Number of instances : 506\n",
    " - Number of Attributes : 13\n",
    "\n"
   ]
  },
  {
   "cell_type": "markdown",
   "metadata": {},
   "source": []
  }
 ],
 "metadata": {
  "kernelspec": {
   "display_name": "Python 3",
   "language": "python",
   "name": "python3"
  },
  "language_info": {
   "codemirror_mode": {
    "name": "ipython",
    "version": 3
   },
   "file_extension": ".py",
   "mimetype": "text/x-python",
   "name": "python",
   "nbconvert_exporter": "python",
   "pygments_lexer": "ipython3",
   "version": "3.8.3"
  }
 },
 "nbformat": 4,
 "nbformat_minor": 4
}
